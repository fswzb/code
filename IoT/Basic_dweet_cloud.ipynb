{
 "cells": [
  {
   "cell_type": "code",
   "execution_count": 26,
   "metadata": {
    "collapsed": false
   },
   "outputs": [],
   "source": [
    "import requests"
   ]
  },
  {
   "cell_type": "markdown",
   "metadata": {},
   "source": [
    "dweet.io is a simple cloud which could accept data via requests."
   ]
  },
  {
   "cell_type": "code",
   "execution_count": 27,
   "metadata": {
    "collapsed": true
   },
   "outputs": [],
   "source": [
    "payload={'Temperature':'28.1'}"
   ]
  },
  {
   "cell_type": "code",
   "execution_count": 28,
   "metadata": {
    "collapsed": true
   },
   "outputs": [],
   "source": [
    "req=requests.get('https://dweet.io/dweet/for/JunTest1?',params=payload)"
   ]
  },
  {
   "cell_type": "code",
   "execution_count": 29,
   "metadata": {
    "collapsed": false
   },
   "outputs": [
    {
     "name": "stdout",
     "output_type": "stream",
     "text": [
      "b'{\"this\":\"succeeded\",\"by\":\"dweeting\",\"the\":\"dweet\",\"with\":{\"thing\":\"JunTest1\",\"created\":\"2017-06-07T06:26:43.658Z\",\"content\":{\"Temperature\":28.1},\"transaction\":\"9847287e-2941-4883-b7ae-466613c2e72d\"}}'\n"
     ]
    }
   ],
   "source": [
    "print(req.content)"
   ]
  },
  {
   "cell_type": "markdown",
   "metadata": {},
   "source": [
    "Or using dweepy lib"
   ]
  },
  {
   "cell_type": "code",
   "execution_count": 30,
   "metadata": {
    "collapsed": true
   },
   "outputs": [],
   "source": [
    "import dweepy"
   ]
  },
  {
   "cell_type": "code",
   "execution_count": 31,
   "metadata": {
    "collapsed": true
   },
   "outputs": [],
   "source": [
    "data={'Temperature':'29.1'}"
   ]
  },
  {
   "cell_type": "code",
   "execution_count": 32,
   "metadata": {
    "collapsed": false
   },
   "outputs": [
    {
     "data": {
      "text/plain": [
       "{'content': {'Temperature': 29.1},\n",
       " 'created': '2017-06-07T06:27:02.576Z',\n",
       " 'thing': 'JunTest1',\n",
       " 'transaction': '03afa342-f39b-4c05-a061-c60a7a000215'}"
      ]
     },
     "execution_count": 32,
     "metadata": {},
     "output_type": "execute_result"
    }
   ],
   "source": [
    "dweepy.dweet_for('JunTest1', data)"
   ]
  },
  {
   "cell_type": "markdown",
   "metadata": {},
   "source": [
    "Both ways are ok. And the website to watch data is https://dweet.io/follow/JunTest1"
   ]
  },
  {
   "cell_type": "code",
   "execution_count": 41,
   "metadata": {
    "collapsed": false
   },
   "outputs": [],
   "source": [
    "import random\n",
    "import time"
   ]
  },
  {
   "cell_type": "code",
   "execution_count": 42,
   "metadata": {
    "collapsed": true
   },
   "outputs": [],
   "source": [
    "for i in range(100):\n",
    "    data['Temperature']=random.randint(0,100)\n",
    "    dweepy.dweet_for('JunTest1',data)\n",
    "    time.sleep(2)"
   ]
  },
  {
   "cell_type": "markdown",
   "metadata": {},
   "source": [
    "The following website could fetch data from long term storage of dweet.io"
   ]
  },
  {
   "cell_type": "code",
   "execution_count": 44,
   "metadata": {
    "collapsed": true
   },
   "outputs": [],
   "source": [
    "req=requests.get('https://dweet.io/get/dweets/for/JunTest1')"
   ]
  },
  {
   "cell_type": "code",
   "execution_count": 45,
   "metadata": {
    "collapsed": false
   },
   "outputs": [
    {
     "name": "stdout",
     "output_type": "stream",
     "text": [
      "b'{\"this\":\"succeeded\",\"by\":\"getting\",\"the\":\"dweets\",\"with\":[{\"thing\":\"JunTest1\",\"created\":\"2017-06-07T06:36:19.547Z\",\"content\":{\"Temperature\":15}},{\"thing\":\"JunTest1\",\"created\":\"2017-06-07T06:36:16.633Z\",\"content\":{\"Temperature\":19}},{\"thing\":\"JunTest1\",\"created\":\"2017-06-07T06:36:13.719Z\",\"content\":{\"Temperature\":26}},{\"thing\":\"JunTest1\",\"created\":\"2017-06-07T06:36:10.804Z\",\"content\":{\"Temperature\":92}},{\"thing\":\"JunTest1\",\"created\":\"2017-06-07T06:36:07.892Z\",\"content\":{\"Temperature\":29}}]}'\n"
     ]
    }
   ],
   "source": [
    "print(req.content)"
   ]
  },
  {
   "cell_type": "code",
   "execution_count": null,
   "metadata": {
    "collapsed": true
   },
   "outputs": [],
   "source": []
  }
 ],
 "metadata": {
  "kernelspec": {
   "display_name": "Python 3",
   "language": "python",
   "name": "python3"
  },
  "language_info": {
   "codemirror_mode": {
    "name": "ipython",
    "version": 3
   },
   "file_extension": ".py",
   "mimetype": "text/x-python",
   "name": "python",
   "nbconvert_exporter": "python",
   "pygments_lexer": "ipython3",
   "version": "3.6.0"
  }
 },
 "nbformat": 4,
 "nbformat_minor": 2
}
