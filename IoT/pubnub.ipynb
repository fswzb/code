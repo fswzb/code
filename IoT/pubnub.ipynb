{
 "cells": [
  {
   "cell_type": "code",
   "execution_count": 39,
   "metadata": {
    "collapsed": false
   },
   "outputs": [],
   "source": [
    "from pubnub.pubnub import PubNub\n",
    "from pubnub.pnconfiguration import PNConfiguration\n",
    "import random\n",
    "import time"
   ]
  },
  {
   "cell_type": "code",
   "execution_count": 28,
   "metadata": {
    "collapsed": true
   },
   "outputs": [],
   "source": [
    "publish_key='pub-c-60e2bc08-b809-4a24-8691-e59eda94e056'"
   ]
  },
  {
   "cell_type": "code",
   "execution_count": 29,
   "metadata": {
    "collapsed": true
   },
   "outputs": [],
   "source": [
    "subscribe_key='sub-c-ed47cf5a-4c02-11e7-a368-0619f8945a4f'"
   ]
  },
  {
   "cell_type": "code",
   "execution_count": 30,
   "metadata": {
    "collapsed": true
   },
   "outputs": [],
   "source": [
    "pnconfig = PNConfiguration()\n",
    "pnconfig.subscribe_key = subscribe_key\n",
    "pnconfig.publish_key = publish_key\n",
    "pnconfig.ssl = False"
   ]
  },
  {
   "cell_type": "code",
   "execution_count": 31,
   "metadata": {
    "collapsed": false
   },
   "outputs": [],
   "source": [
    "p=PubNub(pnconfig)"
   ]
  },
  {
   "cell_type": "code",
   "execution_count": 32,
   "metadata": {
    "collapsed": true
   },
   "outputs": [],
   "source": [
    "p.subscribe().channels('Temperature').execute()"
   ]
  },
  {
   "cell_type": "code",
   "execution_count": 33,
   "metadata": {
    "collapsed": true
   },
   "outputs": [],
   "source": [
    "def publish_callback(result, status):\n",
    "    print('It is successful!')\n",
    "    # handle publish result, status always present, result if successful\n",
    "    # status.isError to see if error happened"
   ]
  },
  {
   "cell_type": "code",
   "execution_count": 35,
   "metadata": {
    "collapsed": true
   },
   "outputs": [],
   "source": [
    "def send_message(message):\n",
    "    p.publish().channel(\"Temperature\").message(message).should_store(True).use_post(True).async(publish_callback)"
   ]
  },
  {
   "cell_type": "code",
   "execution_count": 62,
   "metadata": {
    "collapsed": false
   },
   "outputs": [
    {
     "data": {
      "text/plain": [
       "<pubnub.request_handlers.requests_handler.Call at 0x7f43580946d8>"
      ]
     },
     "execution_count": 62,
     "metadata": {},
     "output_type": "execute_result"
    }
   ],
   "source": [
    "p.publish().channel(\"Temperature\").message('Null2').should_store(True).use_post(True).async(publish_callback)"
   ]
  },
  {
   "cell_type": "code",
   "execution_count": 60,
   "metadata": {
    "collapsed": false
   },
   "outputs": [
    {
     "name": "stdout",
     "output_type": "stream",
     "text": [
      "2017/06/08 15:21:35:11\n",
      "2017/06/08 15:21:36:63\n",
      "2017/06/08 15:21:37:88\n",
      "2017/06/08 15:21:38:78\n",
      "2017/06/08 15:21:39:5\n",
      "2017/06/08 15:21:40:24\n",
      "2017/06/08 15:21:41:77\n",
      "2017/06/08 15:21:42:80\n",
      "2017/06/08 15:21:43:89\n",
      "2017/06/08 15:21:44:3\n",
      "2017/06/08 15:21:45:38\n",
      "2017/06/08 15:21:46:3\n",
      "2017/06/08 15:21:47:78\n",
      "2017/06/08 15:21:48:89\n",
      "2017/06/08 15:21:49:86\n",
      "2017/06/08 15:21:50:88\n",
      "2017/06/08 15:21:51:21\n",
      "2017/06/08 15:21:52:59\n",
      "2017/06/08 15:21:53:64\n",
      "2017/06/08 15:21:54:46\n",
      "2017/06/08 15:21:55:89\n",
      "2017/06/08 15:21:56:12\n",
      "2017/06/08 15:21:57:35\n",
      "2017/06/08 15:21:58:87\n",
      "2017/06/08 15:21:59:24\n",
      "2017/06/08 15:22:00:89\n",
      "2017/06/08 15:22:01:17\n",
      "2017/06/08 15:22:02:91\n",
      "2017/06/08 15:22:03:94\n",
      "2017/06/08 15:22:04:53\n",
      "2017/06/08 15:22:05:75\n",
      "2017/06/08 15:22:06:55\n",
      "2017/06/08 15:22:07:88\n",
      "2017/06/08 15:22:08:40\n",
      "2017/06/08 15:22:09:0\n",
      "2017/06/08 15:22:10:24\n",
      "2017/06/08 15:22:11:37\n",
      "2017/06/08 15:22:12:40\n",
      "2017/06/08 15:22:13:70\n",
      "2017/06/08 15:22:14:14\n",
      "2017/06/08 15:22:15:42\n",
      "2017/06/08 15:22:16:4\n",
      "2017/06/08 15:22:17:64\n",
      "2017/06/08 15:22:18:6\n",
      "2017/06/08 15:22:19:0\n",
      "2017/06/08 15:22:20:42\n",
      "2017/06/08 15:22:21:25\n",
      "2017/06/08 15:22:22:2\n",
      "2017/06/08 15:22:23:29\n",
      "2017/06/08 15:22:24:31\n",
      "2017/06/08 15:22:25:87\n",
      "2017/06/08 15:22:26:21\n",
      "2017/06/08 15:22:27:98\n",
      "2017/06/08 15:22:28:36\n",
      "2017/06/08 15:22:29:5\n",
      "2017/06/08 15:22:30:81\n",
      "2017/06/08 15:22:31:29\n",
      "2017/06/08 15:22:32:17\n",
      "2017/06/08 15:22:33:55\n",
      "2017/06/08 15:22:34:2\n",
      "2017/06/08 15:22:35:63\n",
      "2017/06/08 15:22:36:74\n",
      "2017/06/08 15:22:37:91\n",
      "2017/06/08 15:22:38:51\n",
      "2017/06/08 15:22:39:95\n",
      "2017/06/08 15:22:40:81\n",
      "2017/06/08 15:22:41:3\n",
      "2017/06/08 15:22:42:96\n",
      "2017/06/08 15:22:44:70\n",
      "2017/06/08 15:22:45:34\n",
      "2017/06/08 15:22:46:71\n",
      "2017/06/08 15:22:47:37\n",
      "2017/06/08 15:22:48:2\n",
      "2017/06/08 15:22:49:55\n",
      "2017/06/08 15:22:50:7\n",
      "2017/06/08 15:22:51:57\n",
      "2017/06/08 15:22:52:3\n",
      "2017/06/08 15:22:53:34\n",
      "2017/06/08 15:22:54:51\n",
      "2017/06/08 15:22:55:26\n",
      "2017/06/08 15:22:56:35\n",
      "2017/06/08 15:22:57:88\n",
      "2017/06/08 15:22:58:52\n",
      "2017/06/08 15:22:59:11\n",
      "2017/06/08 15:23:00:60\n",
      "2017/06/08 15:23:01:49\n",
      "2017/06/08 15:23:02:51\n",
      "2017/06/08 15:23:03:25\n",
      "2017/06/08 15:23:04:75\n",
      "2017/06/08 15:23:05:87\n",
      "2017/06/08 15:23:06:64\n",
      "2017/06/08 15:23:07:68\n",
      "2017/06/08 15:23:08:76\n",
      "2017/06/08 15:23:09:18\n",
      "2017/06/08 15:23:10:8\n",
      "2017/06/08 15:23:11:92\n",
      "2017/06/08 15:23:12:47\n",
      "2017/06/08 15:23:13:26\n",
      "2017/06/08 15:23:14:67\n",
      "2017/06/08 15:23:15:45\n"
     ]
    }
   ],
   "source": [
    "for i in range(100):\n",
    "    T=random.randint(0,100)\n",
    "    t=time.strftime('%Y/%m/%d %H:%M:%S',time.localtime())\n",
    "    send_message({t:T})\n",
    "    time.sleep(1)\n",
    "    print('%s:%d'%(t,T))"
   ]
  },
  {
   "cell_type": "code",
   "execution_count": null,
   "metadata": {
    "collapsed": true
   },
   "outputs": [],
   "source": []
  }
 ],
 "metadata": {
  "kernelspec": {
   "display_name": "Python 3",
   "language": "python",
   "name": "python3"
  },
  "language_info": {
   "codemirror_mode": {
    "name": "ipython",
    "version": 3
   },
   "file_extension": ".py",
   "mimetype": "text/x-python",
   "name": "python",
   "nbconvert_exporter": "python",
   "pygments_lexer": "ipython3",
   "version": "3.6.0"
  }
 },
 "nbformat": 4,
 "nbformat_minor": 2
}
