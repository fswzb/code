{
 "cells": [
  {
   "cell_type": "code",
   "execution_count": 2,
   "metadata": {
    "collapsed": true
   },
   "outputs": [],
   "source": [
    "import statsmodels.api as sm\n",
    "import statsmodels.formula.api as smf\n",
    "from sklearn.datasets import make_classification"
   ]
  },
  {
   "cell_type": "code",
   "execution_count": 3,
   "metadata": {
    "collapsed": true
   },
   "outputs": [],
   "source": [
    "X, y = make_classification(n_samples=10000, n_features=10,n_informative=10, n_redundant=0,random_state=101)"
   ]
  },
  {
   "cell_type": "code",
   "execution_count": 4,
   "metadata": {
    "collapsed": false
   },
   "outputs": [
    {
     "name": "stdout",
     "output_type": "stream",
     "text": [
      "Optimization terminated successfully.\n",
      "         Current function value: 0.438685\n",
      "         Iterations 7\n"
     ]
    }
   ],
   "source": [
    "Xc=sm.add_constant(X)\n",
    "logistic_regression=sm.Logit(y,Xc)\n",
    "fitted_model=logistic_regression.fit()"
   ]
  },
  {
   "cell_type": "code",
   "execution_count": 5,
   "metadata": {
    "collapsed": false
   },
   "outputs": [
    {
     "data": {
      "text/html": [
       "<table class=\"simpletable\">\n",
       "<caption>Logit Regression Results</caption>\n",
       "<tr>\n",
       "  <th>Dep. Variable:</th>         <td>y</td>        <th>  No. Observations:  </th>  <td> 10000</td> \n",
       "</tr>\n",
       "<tr>\n",
       "  <th>Model:</th>               <td>Logit</td>      <th>  Df Residuals:      </th>  <td>  9989</td> \n",
       "</tr>\n",
       "<tr>\n",
       "  <th>Method:</th>               <td>MLE</td>       <th>  Df Model:          </th>  <td>    10</td> \n",
       "</tr>\n",
       "<tr>\n",
       "  <th>Date:</th>          <td>Mon, 27 Feb 2017</td> <th>  Pseudo R-squ.:     </th>  <td>0.3671</td> \n",
       "</tr>\n",
       "<tr>\n",
       "  <th>Time:</th>              <td>12:02:59</td>     <th>  Log-Likelihood:    </th> <td> -4386.8</td>\n",
       "</tr>\n",
       "<tr>\n",
       "  <th>converged:</th>           <td>True</td>       <th>  LL-Null:           </th> <td> -6931.5</td>\n",
       "</tr>\n",
       "<tr>\n",
       "  <th> </th>                      <td> </td>        <th>  LLR p-value:       </th>  <td> 0.000</td> \n",
       "</tr>\n",
       "</table>\n",
       "<table class=\"simpletable\">\n",
       "<tr>\n",
       "    <td></td>       <th>coef</th>     <th>std err</th>      <th>z</th>      <th>P>|z|</th> <th>[95.0% Conf. Int.]</th> \n",
       "</tr>\n",
       "<tr>\n",
       "  <th>const</th> <td>    0.4299</td> <td>    0.039</td> <td>   11.023</td> <td> 0.000</td> <td>    0.353     0.506</td>\n",
       "</tr>\n",
       "<tr>\n",
       "  <th>x1</th>    <td>    0.0671</td> <td>    0.015</td> <td>    4.410</td> <td> 0.000</td> <td>    0.037     0.097</td>\n",
       "</tr>\n",
       "<tr>\n",
       "  <th>x2</th>    <td>   -0.7828</td> <td>    0.019</td> <td>  -41.947</td> <td> 0.000</td> <td>   -0.819    -0.746</td>\n",
       "</tr>\n",
       "<tr>\n",
       "  <th>x3</th>    <td>    0.1221</td> <td>    0.016</td> <td>    7.815</td> <td> 0.000</td> <td>    0.091     0.153</td>\n",
       "</tr>\n",
       "<tr>\n",
       "  <th>x4</th>    <td>    0.2841</td> <td>    0.016</td> <td>   18.150</td> <td> 0.000</td> <td>    0.253     0.315</td>\n",
       "</tr>\n",
       "<tr>\n",
       "  <th>x5</th>    <td>    0.1469</td> <td>    0.014</td> <td>   10.283</td> <td> 0.000</td> <td>    0.119     0.175</td>\n",
       "</tr>\n",
       "<tr>\n",
       "  <th>x6</th>    <td>   -0.3414</td> <td>    0.019</td> <td>  -17.636</td> <td> 0.000</td> <td>   -0.379    -0.303</td>\n",
       "</tr>\n",
       "<tr>\n",
       "  <th>x7</th>    <td>    0.0503</td> <td>    0.014</td> <td>    3.481</td> <td> 0.000</td> <td>    0.022     0.079</td>\n",
       "</tr>\n",
       "<tr>\n",
       "  <th>x8</th>    <td>   -0.1393</td> <td>    0.014</td> <td>   -9.642</td> <td> 0.000</td> <td>   -0.168    -0.111</td>\n",
       "</tr>\n",
       "<tr>\n",
       "  <th>x9</th>    <td>    0.1127</td> <td>    0.014</td> <td>    7.931</td> <td> 0.000</td> <td>    0.085     0.141</td>\n",
       "</tr>\n",
       "<tr>\n",
       "  <th>x10</th>   <td>   -0.4792</td> <td>    0.018</td> <td>  -27.340</td> <td> 0.000</td> <td>   -0.514    -0.445</td>\n",
       "</tr>\n",
       "</table>"
      ],
      "text/plain": [
       "<class 'statsmodels.iolib.summary.Summary'>\n",
       "\"\"\"\n",
       "                           Logit Regression Results                           \n",
       "==============================================================================\n",
       "Dep. Variable:                      y   No. Observations:                10000\n",
       "Model:                          Logit   Df Residuals:                     9989\n",
       "Method:                           MLE   Df Model:                           10\n",
       "Date:                Mon, 27 Feb 2017   Pseudo R-squ.:                  0.3671\n",
       "Time:                        12:02:59   Log-Likelihood:                -4386.8\n",
       "converged:                       True   LL-Null:                       -6931.5\n",
       "                                        LLR p-value:                     0.000\n",
       "==============================================================================\n",
       "                 coef    std err          z      P>|z|      [95.0% Conf. Int.]\n",
       "------------------------------------------------------------------------------\n",
       "const          0.4299      0.039     11.023      0.000         0.353     0.506\n",
       "x1             0.0671      0.015      4.410      0.000         0.037     0.097\n",
       "x2            -0.7828      0.019    -41.947      0.000        -0.819    -0.746\n",
       "x3             0.1221      0.016      7.815      0.000         0.091     0.153\n",
       "x4             0.2841      0.016     18.150      0.000         0.253     0.315\n",
       "x5             0.1469      0.014     10.283      0.000         0.119     0.175\n",
       "x6            -0.3414      0.019    -17.636      0.000        -0.379    -0.303\n",
       "x7             0.0503      0.014      3.481      0.000         0.022     0.079\n",
       "x8            -0.1393      0.014     -9.642      0.000        -0.168    -0.111\n",
       "x9             0.1127      0.014      7.931      0.000         0.085     0.141\n",
       "x10           -0.4792      0.018    -27.340      0.000        -0.514    -0.445\n",
       "==============================================================================\n",
       "\"\"\""
      ]
     },
     "execution_count": 5,
     "metadata": {},
     "output_type": "execute_result"
    }
   ],
   "source": [
    "fitted_model.summary()"
   ]
  },
  {
   "cell_type": "code",
   "execution_count": 6,
   "metadata": {
    "collapsed": false
   },
   "outputs": [],
   "source": [
    "import urllib"
   ]
  },
  {
   "cell_type": "code",
   "execution_count": 7,
   "metadata": {
    "collapsed": false
   },
   "outputs": [
    {
     "data": {
      "text/plain": [
       "['DefragResult',\n",
       " 'DefragResultBytes',\n",
       " 'MAX_CACHE_SIZE',\n",
       " 'ParseResult',\n",
       " 'ParseResultBytes',\n",
       " 'Quoter',\n",
       " 'ResultBase',\n",
       " 'SplitResult',\n",
       " 'SplitResultBytes',\n",
       " '_ALWAYS_SAFE',\n",
       " '_ALWAYS_SAFE_BYTES',\n",
       " '_DefragResultBase',\n",
       " '_NetlocResultMixinBase',\n",
       " '_NetlocResultMixinBytes',\n",
       " '_NetlocResultMixinStr',\n",
       " '_ParseResultBase',\n",
       " '_ResultMixinBytes',\n",
       " '_ResultMixinStr',\n",
       " '_SplitResultBase',\n",
       " '__all__',\n",
       " '__builtins__',\n",
       " '__cached__',\n",
       " '__doc__',\n",
       " '__file__',\n",
       " '__loader__',\n",
       " '__name__',\n",
       " '__package__',\n",
       " '__spec__',\n",
       " '_asciire',\n",
       " '_coerce_args',\n",
       " '_decode_args',\n",
       " '_encode_result',\n",
       " '_hexdig',\n",
       " '_hextobyte',\n",
       " '_hostprog',\n",
       " '_implicit_encoding',\n",
       " '_implicit_errors',\n",
       " '_noop',\n",
       " '_parse_cache',\n",
       " '_portprog',\n",
       " '_safe_quoters',\n",
       " '_splitnetloc',\n",
       " '_splitparams',\n",
       " '_typeprog',\n",
       " 'clear_cache',\n",
       " 'collections',\n",
       " 'namedtuple',\n",
       " 'non_hierarchical',\n",
       " 'parse_qs',\n",
       " 'parse_qsl',\n",
       " 'quote',\n",
       " 'quote_from_bytes',\n",
       " 'quote_plus',\n",
       " 're',\n",
       " 'scheme_chars',\n",
       " 'splitattr',\n",
       " 'splithost',\n",
       " 'splitnport',\n",
       " 'splitpasswd',\n",
       " 'splitport',\n",
       " 'splitquery',\n",
       " 'splittag',\n",
       " 'splittype',\n",
       " 'splituser',\n",
       " 'splitvalue',\n",
       " 'sys',\n",
       " 'to_bytes',\n",
       " 'unquote',\n",
       " 'unquote_plus',\n",
       " 'unquote_to_bytes',\n",
       " 'unwrap',\n",
       " 'urldefrag',\n",
       " 'urlencode',\n",
       " 'urljoin',\n",
       " 'urlparse',\n",
       " 'urlsplit',\n",
       " 'urlunparse',\n",
       " 'urlunsplit',\n",
       " 'uses_fragment',\n",
       " 'uses_netloc',\n",
       " 'uses_params',\n",
       " 'uses_query',\n",
       " 'uses_relative']"
      ]
     },
     "execution_count": 7,
     "metadata": {},
     "output_type": "execute_result"
    }
   ],
   "source": [
    "dir(urllib.parse)"
   ]
  },
  {
   "cell_type": "code",
   "execution_count": 8,
   "metadata": {
    "collapsed": true
   },
   "outputs": [],
   "source": [
    "import csv"
   ]
  },
  {
   "cell_type": "code",
   "execution_count": 12,
   "metadata": {
    "collapsed": false
   },
   "outputs": [
    {
     "data": {
      "text/plain": [
       "['Dialect',\n",
       " 'DictReader',\n",
       " 'DictWriter',\n",
       " 'Error',\n",
       " 'QUOTE_ALL',\n",
       " 'QUOTE_MINIMAL',\n",
       " 'QUOTE_NONE',\n",
       " 'QUOTE_NONNUMERIC',\n",
       " 'Sniffer',\n",
       " 'StringIO',\n",
       " '_Dialect',\n",
       " '__all__',\n",
       " '__builtins__',\n",
       " '__cached__',\n",
       " '__doc__',\n",
       " '__file__',\n",
       " '__loader__',\n",
       " '__name__',\n",
       " '__package__',\n",
       " '__spec__',\n",
       " '__version__',\n",
       " 'excel',\n",
       " 'excel_tab',\n",
       " 'field_size_limit',\n",
       " 'get_dialect',\n",
       " 'list_dialects',\n",
       " 're',\n",
       " 'reader',\n",
       " 'register_dialect',\n",
       " 'unix_dialect',\n",
       " 'unregister_dialect',\n",
       " 'writer']"
      ]
     },
     "execution_count": 12,
     "metadata": {},
     "output_type": "execute_result"
    }
   ],
   "source": [
    "dir(csv)"
   ]
  },
  {
   "cell_type": "code",
   "execution_count": null,
   "metadata": {
    "collapsed": true
   },
   "outputs": [],
   "source": []
  }
 ],
 "metadata": {
  "anaconda-cloud": {},
  "kernelspec": {
   "display_name": "Python [conda root]",
   "language": "python",
   "name": "conda-root-py"
  },
  "language_info": {
   "codemirror_mode": {
    "name": "ipython",
    "version": 3
   },
   "file_extension": ".py",
   "mimetype": "text/x-python",
   "name": "python",
   "nbconvert_exporter": "python",
   "pygments_lexer": "ipython3",
   "version": "3.5.2"
  }
 },
 "nbformat": 4,
 "nbformat_minor": 1
}
