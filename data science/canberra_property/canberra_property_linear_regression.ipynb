{
 "cells": [
  {
   "cell_type": "code",
   "execution_count": 70,
   "metadata": {
    "collapsed": true
   },
   "outputs": [],
   "source": [
    "import pandas as pd\n",
    "from pandas import DataFrame\n",
    "import re\n",
    "import time"
   ]
  },
  {
   "cell_type": "code",
   "execution_count": 71,
   "metadata": {
    "collapsed": false
   },
   "outputs": [],
   "source": [
    "df=pd.read_csv(open('output.csv'),names=['price','address','suburb','type','date','bed','bath','carpark','link','refer'])"
   ]
  },
  {
   "cell_type": "code",
   "execution_count": 72,
   "metadata": {
    "collapsed": false
   },
   "outputs": [
    {
     "data": {
      "text/html": [
       "<div>\n",
       "<table border=\"1\" class=\"dataframe\">\n",
       "  <thead>\n",
       "    <tr style=\"text-align: right;\">\n",
       "      <th></th>\n",
       "      <th>price</th>\n",
       "      <th>address</th>\n",
       "      <th>suburb</th>\n",
       "      <th>type</th>\n",
       "      <th>date</th>\n",
       "      <th>bed</th>\n",
       "      <th>bath</th>\n",
       "      <th>carpark</th>\n",
       "      <th>link</th>\n",
       "      <th>refer</th>\n",
       "    </tr>\n",
       "  </thead>\n",
       "  <tbody>\n",
       "    <tr>\n",
       "      <th>0</th>\n",
       "      <td>$305,000</td>\n",
       "      <td>516/2 Akuna Street</td>\n",
       "      <td>City</td>\n",
       "      <td>apartment</td>\n",
       "      <td>Sold on 28 Feb 2017</td>\n",
       "      <td>2</td>\n",
       "      <td>1</td>\n",
       "      <td>1</td>\n",
       "      <td>http://www.realestate.com.au/sold/property-apa...</td>\n",
       "      <td>https://www.realestate.com.au/sold/in-2601%3b/...</td>\n",
       "    </tr>\n",
       "    <tr>\n",
       "      <th>1</th>\n",
       "      <td>$510,000</td>\n",
       "      <td>166/15 Coranderrk Street</td>\n",
       "      <td>City</td>\n",
       "      <td>apartment</td>\n",
       "      <td>Sold on 17 Feb 2017</td>\n",
       "      <td>2</td>\n",
       "      <td>1</td>\n",
       "      <td>2</td>\n",
       "      <td>http://www.realestate.com.au/sold/property-apa...</td>\n",
       "      <td>https://www.realestate.com.au/sold/in-2601%3b/...</td>\n",
       "    </tr>\n",
       "    <tr>\n",
       "      <th>2</th>\n",
       "      <td>$1,110,000</td>\n",
       "      <td>1401/19 Marcus Clarke Street</td>\n",
       "      <td>City</td>\n",
       "      <td>apartment</td>\n",
       "      <td>Sold on 15 Feb 2017</td>\n",
       "      <td>2</td>\n",
       "      <td>2</td>\n",
       "      <td>2</td>\n",
       "      <td>http://www.realestate.com.au/sold/property-apa...</td>\n",
       "      <td>https://www.realestate.com.au/sold/in-2601%3b/...</td>\n",
       "    </tr>\n",
       "    <tr>\n",
       "      <th>3</th>\n",
       "      <td>$425,000</td>\n",
       "      <td>31/45 West Row</td>\n",
       "      <td>City</td>\n",
       "      <td>apartment</td>\n",
       "      <td>Sold on 09 Feb 2017</td>\n",
       "      <td>1</td>\n",
       "      <td>1</td>\n",
       "      <td>1</td>\n",
       "      <td>http://www.realestate.com.au/sold/property-apa...</td>\n",
       "      <td>https://www.realestate.com.au/sold/in-2601%3b/...</td>\n",
       "    </tr>\n",
       "    <tr>\n",
       "      <th>4</th>\n",
       "      <td>$420,000</td>\n",
       "      <td>33/45 'Mayfair' West Row</td>\n",
       "      <td>City</td>\n",
       "      <td>unit</td>\n",
       "      <td>Sold on 18 Jan 2017</td>\n",
       "      <td>1</td>\n",
       "      <td>1</td>\n",
       "      <td>1</td>\n",
       "      <td>http://www.realestate.com.au/sold/property-uni...</td>\n",
       "      <td>https://www.realestate.com.au/sold/in-2601%3b/...</td>\n",
       "    </tr>\n",
       "  </tbody>\n",
       "</table>\n",
       "</div>"
      ],
      "text/plain": [
       "        price                       address suburb       type  \\\n",
       "0    $305,000            516/2 Akuna Street   City  apartment   \n",
       "1    $510,000      166/15 Coranderrk Street   City  apartment   \n",
       "2  $1,110,000  1401/19 Marcus Clarke Street   City  apartment   \n",
       "3    $425,000                31/45 West Row   City  apartment   \n",
       "4    $420,000      33/45 'Mayfair' West Row   City       unit   \n",
       "\n",
       "                  date bed bath carpark  \\\n",
       "0  Sold on 28 Feb 2017   2    1       1   \n",
       "1  Sold on 17 Feb 2017   2    1       2   \n",
       "2  Sold on 15 Feb 2017   2    2       2   \n",
       "3  Sold on 09 Feb 2017   1    1       1   \n",
       "4  Sold on 18 Jan 2017   1    1       1   \n",
       "\n",
       "                                                link  \\\n",
       "0  http://www.realestate.com.au/sold/property-apa...   \n",
       "1  http://www.realestate.com.au/sold/property-apa...   \n",
       "2  http://www.realestate.com.au/sold/property-apa...   \n",
       "3  http://www.realestate.com.au/sold/property-apa...   \n",
       "4  http://www.realestate.com.au/sold/property-uni...   \n",
       "\n",
       "                                               refer  \n",
       "0  https://www.realestate.com.au/sold/in-2601%3b/...  \n",
       "1  https://www.realestate.com.au/sold/in-2601%3b/...  \n",
       "2  https://www.realestate.com.au/sold/in-2601%3b/...  \n",
       "3  https://www.realestate.com.au/sold/in-2601%3b/...  \n",
       "4  https://www.realestate.com.au/sold/in-2601%3b/...  "
      ]
     },
     "execution_count": 72,
     "metadata": {},
     "output_type": "execute_result"
    }
   ],
   "source": [
    "df.head()"
   ]
  },
  {
   "cell_type": "code",
   "execution_count": 76,
   "metadata": {
    "collapsed": false
   },
   "outputs": [
    {
     "data": {
      "text/plain": [
       "0                          $305,000\n",
       "1                          $510,000\n",
       "2                        $1,110,000\n",
       "3                          $425,000\n",
       "4                          $420,000\n",
       "5                          $800,000\n",
       "6                          $440,000\n",
       "7                          $380,000\n",
       "8                          $455,900\n",
       "9                          $400,000\n",
       "10                         $464,000\n",
       "11                         $749,000\n",
       "12                         $580,000\n",
       "13                         $475,000\n",
       "14                         $625,000\n",
       "15                       $1,550,000\n",
       "16                         $567,500\n",
       "17                         $470,000\n",
       "18                         $645,000\n",
       "19                         $585,000\n",
       "20                         $750,000\n",
       "21                         $647,000\n",
       "22                       $1,175,000\n",
       "23                       $1,700,000\n",
       "24                         $991,000\n",
       "25                       $1,125,000\n",
       "26                         $423,000\n",
       "27                         $428,000\n",
       "28                         $408,000\n",
       "29                       $1,450,000\n",
       "                    ...            \n",
       "36756                   b'$950,000'\n",
       "36757                   b'$993,000'\n",
       "36758                 Contact agent\n",
       "36759                   b'$685,000'\n",
       "36760                   b'$610,000'\n",
       "36761                   b'$620,000'\n",
       "36762                   b'$679,950'\n",
       "36763                   b'$605,000'\n",
       "36764                   b'$638,000'\n",
       "36765    Range: $635,000 - $740,000\n",
       "36766                   b'$668,000'\n",
       "36767                   b'$835,000'\n",
       "36768                   b'$750,000'\n",
       "36769                   b'$672,000'\n",
       "36770                   b'$635,000'\n",
       "36771                   b'$650,000'\n",
       "36772                   b'$690,000'\n",
       "36773                   b'$641,000'\n",
       "36774                 Contact agent\n",
       "36775                 Contact agent\n",
       "36776                   b'$699,000'\n",
       "36777                   b'$640,000'\n",
       "36778                   b'$820,000'\n",
       "36779                 Contact agent\n",
       "36780                 Contact agent\n",
       "36781                   b'$712,000'\n",
       "36782                   b'$607,250'\n",
       "36783                   b'$600,000'\n",
       "36784                 Contact agent\n",
       "36785                   b'$800,000'\n",
       "Name: price, dtype: object"
      ]
     },
     "execution_count": 76,
     "metadata": {},
     "output_type": "execute_result"
    }
   ],
   "source": [
    "df['price']"
   ]
  },
  {
   "cell_type": "code",
   "execution_count": null,
   "metadata": {
    "collapsed": true
   },
   "outputs": [],
   "source": [
    "def remove_dumy_price_item(row):\n",
    "    price=row['price']\n",
    "    "
   ]
  },
  {
   "cell_type": "code",
   "execution_count": 73,
   "metadata": {
    "collapsed": false
   },
   "outputs": [
    {
     "ename": "AttributeError",
     "evalue": "'Series' object has no attribute 'startswith'",
     "output_type": "error",
     "traceback": [
      "\u001b[0;31m---------------------------------------------------------------------------\u001b[0m",
      "\u001b[0;31mAttributeError\u001b[0m                            Traceback (most recent call last)",
      "\u001b[0;32m<ipython-input-73-6c0020b5c7a8>\u001b[0m in \u001b[0;36m<module>\u001b[0;34m()\u001b[0m\n\u001b[1;32m      1\u001b[0m \u001b[0mdf_house\u001b[0m\u001b[0;34m=\u001b[0m\u001b[0mdf\u001b[0m\u001b[0;34m[\u001b[0m\u001b[0mdf\u001b[0m\u001b[0;34m[\u001b[0m\u001b[0;34m'type'\u001b[0m\u001b[0;34m]\u001b[0m\u001b[0;34m==\u001b[0m\u001b[0;34m'house'\u001b[0m\u001b[0;34m]\u001b[0m\u001b[0;34m\u001b[0m\u001b[0m\n\u001b[1;32m      2\u001b[0m \u001b[0mdf_house\u001b[0m\u001b[0;34m=\u001b[0m\u001b[0mdf_house\u001b[0m\u001b[0;34m[\u001b[0m\u001b[0mdf_house\u001b[0m\u001b[0;34m[\u001b[0m\u001b[0;34m'price'\u001b[0m\u001b[0;34m]\u001b[0m\u001b[0;34m!=\u001b[0m\u001b[0;34m'Contact agent'\u001b[0m\u001b[0;34m]\u001b[0m\u001b[0;34m\u001b[0m\u001b[0m\n\u001b[0;32m----> 3\u001b[0;31m \u001b[0mdf_house\u001b[0m\u001b[0;34m=\u001b[0m\u001b[0mdf_house\u001b[0m\u001b[0;34m[\u001b[0m\u001b[0;32mnot\u001b[0m \u001b[0mdf_house\u001b[0m\u001b[0;34m[\u001b[0m\u001b[0;34m'price'\u001b[0m\u001b[0;34m]\u001b[0m\u001b[0;34m.\u001b[0m\u001b[0mstartswith\u001b[0m\u001b[0;34m(\u001b[0m\u001b[0;34m'Range:'\u001b[0m\u001b[0;34m)\u001b[0m\u001b[0;34m]\u001b[0m\u001b[0;34m\u001b[0m\u001b[0m\n\u001b[0m",
      "\u001b[0;32m/home/jun_gentoo/anaconda3/lib/python3.5/site-packages/pandas/core/generic.py\u001b[0m in \u001b[0;36m__getattr__\u001b[0;34m(self, name)\u001b[0m\n\u001b[1;32m   2742\u001b[0m             \u001b[0;32mif\u001b[0m \u001b[0mname\u001b[0m \u001b[0;32min\u001b[0m \u001b[0mself\u001b[0m\u001b[0;34m.\u001b[0m\u001b[0m_info_axis\u001b[0m\u001b[0;34m:\u001b[0m\u001b[0;34m\u001b[0m\u001b[0m\n\u001b[1;32m   2743\u001b[0m                 \u001b[0;32mreturn\u001b[0m \u001b[0mself\u001b[0m\u001b[0;34m[\u001b[0m\u001b[0mname\u001b[0m\u001b[0;34m]\u001b[0m\u001b[0;34m\u001b[0m\u001b[0m\n\u001b[0;32m-> 2744\u001b[0;31m             \u001b[0;32mreturn\u001b[0m \u001b[0mobject\u001b[0m\u001b[0;34m.\u001b[0m\u001b[0m__getattribute__\u001b[0m\u001b[0;34m(\u001b[0m\u001b[0mself\u001b[0m\u001b[0;34m,\u001b[0m \u001b[0mname\u001b[0m\u001b[0;34m)\u001b[0m\u001b[0;34m\u001b[0m\u001b[0m\n\u001b[0m\u001b[1;32m   2745\u001b[0m \u001b[0;34m\u001b[0m\u001b[0m\n\u001b[1;32m   2746\u001b[0m     \u001b[0;32mdef\u001b[0m \u001b[0m__setattr__\u001b[0m\u001b[0;34m(\u001b[0m\u001b[0mself\u001b[0m\u001b[0;34m,\u001b[0m \u001b[0mname\u001b[0m\u001b[0;34m,\u001b[0m \u001b[0mvalue\u001b[0m\u001b[0;34m)\u001b[0m\u001b[0;34m:\u001b[0m\u001b[0;34m\u001b[0m\u001b[0m\n",
      "\u001b[0;31mAttributeError\u001b[0m: 'Series' object has no attribute 'startswith'"
     ]
    }
   ],
   "source": [
    "df_house=df[df['type']=='house']\n",
    "df_house=df_house[df_house['price']!='Contact agent']\n",
    "df_house=df_house[not df_house['price'].startswith('Range:')]"
   ]
  },
  {
   "cell_type": "code",
   "execution_count": null,
   "metadata": {
    "collapsed": true
   },
   "outputs": [],
   "source": [
    "def convert_price_to_number(row):\n",
    "    price=row['price']\n",
    "    price=price.strip('b')\n",
    "    price=price.replace(\"'\",\"\")\n",
    "    price=price.replace(',','')\n",
    "    price=price.strip('$')\n",
    "    return int(price)"
   ]
  },
  {
   "cell_type": "code",
   "execution_count": null,
   "metadata": {
    "collapsed": false
   },
   "outputs": [],
   "source": [
    "df_house['price_int']=df_house.apply(convert_price_to_number,axis=1)"
   ]
  },
  {
   "cell_type": "code",
   "execution_count": null,
   "metadata": {
    "collapsed": true
   },
   "outputs": [],
   "source": [
    "t='Range: $80000 - $100000'"
   ]
  },
  {
   "cell_type": "code",
   "execution_count": null,
   "metadata": {
    "collapsed": false
   },
   "outputs": [],
   "source": [
    "t.startswith('Range:')"
   ]
  },
  {
   "cell_type": "code",
   "execution_count": null,
   "metadata": {
    "collapsed": true
   },
   "outputs": [],
   "source": [
    "df_unit=df[df['type']=='unit']\n",
    "df_unit=df_unit[df_unit['price']!='Contact agent']"
   ]
  },
  {
   "cell_type": "code",
   "execution_count": null,
   "metadata": {
    "collapsed": true
   },
   "outputs": [],
   "source": [
    "df_apartment=df[df['type']=='apartment']\n",
    "df_apartment=df_apartment[df_apartment['price']!='Contact agent']"
   ]
  },
  {
   "cell_type": "code",
   "execution_count": null,
   "metadata": {
    "collapsed": false
   },
   "outputs": [],
   "source": [
    "print(df_house.count())\n",
    "print(df_unit.count())\n",
    "print(df_apartment.count())"
   ]
  },
  {
   "cell_type": "code",
   "execution_count": null,
   "metadata": {
    "collapsed": true
   },
   "outputs": [],
   "source": [
    "def return_date_from_df(x):\n",
    "    pattern=re.compile(r'\\d+.*')\n",
    "    r=pattern.search(x['date'])\n",
    "    if r:\n",
    "        str_date=r.group()\n",
    "        t=time.strptime(str_date,'%d %b %Y')\n",
    "        return t\n",
    "    else:\n",
    "        return 'n/a'"
   ]
  },
  {
   "cell_type": "code",
   "execution_count": null,
   "metadata": {
    "collapsed": false
   },
   "outputs": [],
   "source": [
    "df_house['sold_date']=df_house.apply(lambda row:return_date_from_df(row),axis=1)"
   ]
  },
  {
   "cell_type": "code",
   "execution_count": null,
   "metadata": {
    "collapsed": false
   },
   "outputs": [],
   "source": [
    "df_house.head()"
   ]
  },
  {
   "cell_type": "code",
   "execution_count": null,
   "metadata": {
    "collapsed": false
   },
   "outputs": [],
   "source": [
    "df_house['month']=df_house.apply(lambda row:row['sold_date'][1],axis=1)"
   ]
  },
  {
   "cell_type": "code",
   "execution_count": null,
   "metadata": {
    "collapsed": false
   },
   "outputs": [],
   "source": [
    "df_house.head()"
   ]
  },
  {
   "cell_type": "code",
   "execution_count": null,
   "metadata": {
    "collapsed": true
   },
   "outputs": [],
   "source": [
    "df_house_dec=df_house[df_house['month']==12]"
   ]
  },
  {
   "cell_type": "code",
   "execution_count": null,
   "metadata": {
    "collapsed": false
   },
   "outputs": [],
   "source": [
    "df_house_dec.head()"
   ]
  },
  {
   "cell_type": "code",
   "execution_count": null,
   "metadata": {
    "collapsed": true
   },
   "outputs": [],
   "source": []
  }
 ],
 "metadata": {
  "anaconda-cloud": {},
  "kernelspec": {
   "display_name": "Python [conda root]",
   "language": "python",
   "name": "conda-root-py"
  },
  "language_info": {
   "codemirror_mode": {
    "name": "ipython",
    "version": 3
   },
   "file_extension": ".py",
   "mimetype": "text/x-python",
   "name": "python",
   "nbconvert_exporter": "python",
   "pygments_lexer": "ipython3",
   "version": "3.5.3"
  }
 },
 "nbformat": 4,
 "nbformat_minor": 1
}
