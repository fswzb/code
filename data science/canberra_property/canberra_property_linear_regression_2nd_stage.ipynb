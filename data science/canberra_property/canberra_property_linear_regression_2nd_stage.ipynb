{
 "cells": [
  {
   "cell_type": "markdown",
   "metadata": {},
   "source": [
    "based on the result from canberra_property_linear_regression.ipynb\n",
    "all the analysis is based on the new_output.csv"
   ]
  },
  {
   "cell_type": "code",
   "execution_count": 1,
   "metadata": {
    "collapsed": true
   },
   "outputs": [],
   "source": [
    "import pandas as pd"
   ]
  },
  {
   "cell_type": "code",
   "execution_count": 2,
   "metadata": {
    "collapsed": true
   },
   "outputs": [],
   "source": [
    "df=pd.read_csv('new_output.csv')"
   ]
  },
  {
   "cell_type": "code",
   "execution_count": 4,
   "metadata": {
    "collapsed": false
   },
   "outputs": [
    {
     "data": {
      "text/html": [
       "<div>\n",
       "<table border=\"1\" class=\"dataframe\">\n",
       "  <thead>\n",
       "    <tr style=\"text-align: right;\">\n",
       "      <th></th>\n",
       "      <th>Unnamed: 0</th>\n",
       "      <th>price</th>\n",
       "      <th>address</th>\n",
       "      <th>suburb</th>\n",
       "      <th>type</th>\n",
       "      <th>date</th>\n",
       "      <th>bed</th>\n",
       "      <th>bath</th>\n",
       "      <th>carpark</th>\n",
       "      <th>link</th>\n",
       "      <th>refer</th>\n",
       "      <th>new_price</th>\n",
       "      <th>price_int</th>\n",
       "      <th>sold_date</th>\n",
       "      <th>month</th>\n",
       "    </tr>\n",
       "  </thead>\n",
       "  <tbody>\n",
       "    <tr>\n",
       "      <th>0</th>\n",
       "      <td>22</td>\n",
       "      <td>$1,175,000</td>\n",
       "      <td>71 Newdegate Street</td>\n",
       "      <td>Deakin</td>\n",
       "      <td>house</td>\n",
       "      <td>Sold on 03 Mar 2017</td>\n",
       "      <td>3</td>\n",
       "      <td>2</td>\n",
       "      <td>2</td>\n",
       "      <td>http://www.realestate.com.au/sold/property-hou...</td>\n",
       "      <td>https://www.realestate.com.au/sold/in-2600%3b/...</td>\n",
       "      <td>1175000</td>\n",
       "      <td>1175000</td>\n",
       "      <td>time.struct_time(tm_year=2017, tm_mon=3, tm_md...</td>\n",
       "      <td>3</td>\n",
       "    </tr>\n",
       "    <tr>\n",
       "      <th>1</th>\n",
       "      <td>23</td>\n",
       "      <td>$1,700,000</td>\n",
       "      <td>30 Mueller Street</td>\n",
       "      <td>Yarralumla</td>\n",
       "      <td>house</td>\n",
       "      <td>Sold on 18 Feb 2017</td>\n",
       "      <td>4</td>\n",
       "      <td>3</td>\n",
       "      <td>2</td>\n",
       "      <td>http://www.realestate.com.au/sold/property-hou...</td>\n",
       "      <td>https://www.realestate.com.au/sold/in-2600%3b/...</td>\n",
       "      <td>1700000</td>\n",
       "      <td>1700000</td>\n",
       "      <td>time.struct_time(tm_year=2017, tm_mon=2, tm_md...</td>\n",
       "      <td>2</td>\n",
       "    </tr>\n",
       "    <tr>\n",
       "      <th>2</th>\n",
       "      <td>24</td>\n",
       "      <td>$991,000</td>\n",
       "      <td>44 Macgregor Street</td>\n",
       "      <td>Deakin</td>\n",
       "      <td>house</td>\n",
       "      <td>Sold on 18 Feb 2017</td>\n",
       "      <td>3</td>\n",
       "      <td>1</td>\n",
       "      <td>1</td>\n",
       "      <td>http://www.realestate.com.au/sold/property-hou...</td>\n",
       "      <td>https://www.realestate.com.au/sold/in-2600%3b/...</td>\n",
       "      <td>991000</td>\n",
       "      <td>991000</td>\n",
       "      <td>time.struct_time(tm_year=2017, tm_mon=2, tm_md...</td>\n",
       "      <td>2</td>\n",
       "    </tr>\n",
       "    <tr>\n",
       "      <th>3</th>\n",
       "      <td>25</td>\n",
       "      <td>$1,125,000</td>\n",
       "      <td>24 Norman Street</td>\n",
       "      <td>Deakin</td>\n",
       "      <td>house</td>\n",
       "      <td>Sold on 09 Feb 2017</td>\n",
       "      <td>4</td>\n",
       "      <td>2</td>\n",
       "      <td>1</td>\n",
       "      <td>http://www.realestate.com.au/sold/property-hou...</td>\n",
       "      <td>https://www.realestate.com.au/sold/in-2600%3b/...</td>\n",
       "      <td>1125000</td>\n",
       "      <td>1125000</td>\n",
       "      <td>time.struct_time(tm_year=2017, tm_mon=2, tm_md...</td>\n",
       "      <td>2</td>\n",
       "    </tr>\n",
       "    <tr>\n",
       "      <th>4</th>\n",
       "      <td>29</td>\n",
       "      <td>$1,450,000</td>\n",
       "      <td>25 Telopea Park</td>\n",
       "      <td>Barton</td>\n",
       "      <td>house</td>\n",
       "      <td>Sold on 21 Dec 2016</td>\n",
       "      <td>2</td>\n",
       "      <td>1</td>\n",
       "      <td>0</td>\n",
       "      <td>http://www.realestate.com.au/sold/property-hou...</td>\n",
       "      <td>https://www.realestate.com.au/sold/in-2600%3b/...</td>\n",
       "      <td>1450000</td>\n",
       "      <td>1450000</td>\n",
       "      <td>time.struct_time(tm_year=2016, tm_mon=12, tm_m...</td>\n",
       "      <td>12</td>\n",
       "    </tr>\n",
       "  </tbody>\n",
       "</table>\n",
       "</div>"
      ],
      "text/plain": [
       "   Unnamed: 0       price              address      suburb   type  \\\n",
       "0          22  $1,175,000  71 Newdegate Street      Deakin  house   \n",
       "1          23  $1,700,000    30 Mueller Street  Yarralumla  house   \n",
       "2          24    $991,000  44 Macgregor Street      Deakin  house   \n",
       "3          25  $1,125,000     24 Norman Street      Deakin  house   \n",
       "4          29  $1,450,000      25 Telopea Park      Barton  house   \n",
       "\n",
       "                  date  bed  bath  carpark  \\\n",
       "0  Sold on 03 Mar 2017    3     2        2   \n",
       "1  Sold on 18 Feb 2017    4     3        2   \n",
       "2  Sold on 18 Feb 2017    3     1        1   \n",
       "3  Sold on 09 Feb 2017    4     2        1   \n",
       "4  Sold on 21 Dec 2016    2     1        0   \n",
       "\n",
       "                                                link  \\\n",
       "0  http://www.realestate.com.au/sold/property-hou...   \n",
       "1  http://www.realestate.com.au/sold/property-hou...   \n",
       "2  http://www.realestate.com.au/sold/property-hou...   \n",
       "3  http://www.realestate.com.au/sold/property-hou...   \n",
       "4  http://www.realestate.com.au/sold/property-hou...   \n",
       "\n",
       "                                               refer  new_price  price_int  \\\n",
       "0  https://www.realestate.com.au/sold/in-2600%3b/...    1175000    1175000   \n",
       "1  https://www.realestate.com.au/sold/in-2600%3b/...    1700000    1700000   \n",
       "2  https://www.realestate.com.au/sold/in-2600%3b/...     991000     991000   \n",
       "3  https://www.realestate.com.au/sold/in-2600%3b/...    1125000    1125000   \n",
       "4  https://www.realestate.com.au/sold/in-2600%3b/...    1450000    1450000   \n",
       "\n",
       "                                           sold_date month  \n",
       "0  time.struct_time(tm_year=2017, tm_mon=3, tm_md...     3  \n",
       "1  time.struct_time(tm_year=2017, tm_mon=2, tm_md...     2  \n",
       "2  time.struct_time(tm_year=2017, tm_mon=2, tm_md...     2  \n",
       "3  time.struct_time(tm_year=2017, tm_mon=2, tm_md...     2  \n",
       "4  time.struct_time(tm_year=2016, tm_mon=12, tm_m...    12  "
      ]
     },
     "execution_count": 4,
     "metadata": {},
     "output_type": "execute_result"
    }
   ],
   "source": [
    "df.head()"
   ]
  },
  {
   "cell_type": "code",
   "execution_count": 36,
   "metadata": {
    "collapsed": false
   },
   "outputs": [],
   "source": [
    "north=df[(df['suburb']=='Gungahlin') | (df['suburb']=='Ngunnawal') | (df['suburb']=='Harrison') | (df['suburb']=='Bonner') | (df['suburb']=='Franklin') | (df['suburb']=='Casey')]"
   ]
  },
  {
   "cell_type": "code",
   "execution_count": 58,
   "metadata": {
    "collapsed": true
   },
   "outputs": [],
   "source": [
    "north=north[north['price_int']<3000000]"
   ]
  },
  {
   "cell_type": "code",
   "execution_count": 59,
   "metadata": {
    "collapsed": false
   },
   "outputs": [
    {
     "data": {
      "text/plain": [
       "Unnamed: 0    3642\n",
       "price         3642\n",
       "address       3642\n",
       "suburb        3642\n",
       "type          3642\n",
       "date          3642\n",
       "bed           3642\n",
       "bath          3642\n",
       "carpark       3642\n",
       "link          3642\n",
       "refer         3642\n",
       "new_price     3642\n",
       "price_int     3642\n",
       "sold_date     3642\n",
       "month         3642\n",
       "dtype: int64"
      ]
     },
     "execution_count": 59,
     "metadata": {},
     "output_type": "execute_result"
    }
   ],
   "source": [
    "north.count()"
   ]
  },
  {
   "cell_type": "code",
   "execution_count": 60,
   "metadata": {
    "collapsed": false
   },
   "outputs": [
    {
     "data": {
      "text/html": [
       "<div>\n",
       "<table border=\"1\" class=\"dataframe\">\n",
       "  <thead>\n",
       "    <tr style=\"text-align: right;\">\n",
       "      <th></th>\n",
       "      <th>Unnamed: 0</th>\n",
       "      <th>price</th>\n",
       "      <th>address</th>\n",
       "      <th>suburb</th>\n",
       "      <th>type</th>\n",
       "      <th>date</th>\n",
       "      <th>bed</th>\n",
       "      <th>bath</th>\n",
       "      <th>carpark</th>\n",
       "      <th>link</th>\n",
       "      <th>refer</th>\n",
       "      <th>new_price</th>\n",
       "      <th>price_int</th>\n",
       "      <th>sold_date</th>\n",
       "      <th>month</th>\n",
       "    </tr>\n",
       "  </thead>\n",
       "  <tbody>\n",
       "    <tr>\n",
       "      <th>12840</th>\n",
       "      <td>21838</td>\n",
       "      <td>$255,000</td>\n",
       "      <td>34/6 Gungahlin Place</td>\n",
       "      <td>Gungahlin</td>\n",
       "      <td>house</td>\n",
       "      <td>Sold on 14 Oct 2016</td>\n",
       "      <td>1</td>\n",
       "      <td>1</td>\n",
       "      <td>1</td>\n",
       "      <td>http://www.realestate.com.au/sold/property-hou...</td>\n",
       "      <td>https://www.realestate.com.au/sold/between-0-3...</td>\n",
       "      <td>255000</td>\n",
       "      <td>255000</td>\n",
       "      <td>time.struct_time(tm_year=2016, tm_mon=10, tm_m...</td>\n",
       "      <td>10</td>\n",
       "    </tr>\n",
       "    <tr>\n",
       "      <th>12841</th>\n",
       "      <td>21840</td>\n",
       "      <td>$320,000</td>\n",
       "      <td>47b Mary Gillespie Avenue</td>\n",
       "      <td>Gungahlin</td>\n",
       "      <td>house</td>\n",
       "      <td>Sold on 03 Aug 2016</td>\n",
       "      <td>2</td>\n",
       "      <td>1</td>\n",
       "      <td>1</td>\n",
       "      <td>http://www.realestate.com.au/sold/property-hou...</td>\n",
       "      <td>https://www.realestate.com.au/sold/between-0-3...</td>\n",
       "      <td>320000</td>\n",
       "      <td>320000</td>\n",
       "      <td>time.struct_time(tm_year=2016, tm_mon=8, tm_md...</td>\n",
       "      <td>8</td>\n",
       "    </tr>\n",
       "    <tr>\n",
       "      <th>13075</th>\n",
       "      <td>22160</td>\n",
       "      <td>$355,000</td>\n",
       "      <td>303 Anthony Rolfe Street</td>\n",
       "      <td>Gungahlin</td>\n",
       "      <td>house</td>\n",
       "      <td>Sold on 12 Dec 2008</td>\n",
       "      <td>2</td>\n",
       "      <td>2</td>\n",
       "      <td>2</td>\n",
       "      <td>http://www.realestate.com.au/sold/property-hou...</td>\n",
       "      <td>https://www.realestate.com.au/sold/between-350...</td>\n",
       "      <td>355000</td>\n",
       "      <td>355000</td>\n",
       "      <td>time.struct_time(tm_year=2008, tm_mon=12, tm_m...</td>\n",
       "      <td>12</td>\n",
       "    </tr>\n",
       "    <tr>\n",
       "      <th>13076</th>\n",
       "      <td>22174</td>\n",
       "      <td>$430,000</td>\n",
       "      <td>208 Anthony Rolfe Avenue</td>\n",
       "      <td>Gungahlin</td>\n",
       "      <td>house</td>\n",
       "      <td>Sold on 18 Feb 2011</td>\n",
       "      <td>3</td>\n",
       "      <td>2</td>\n",
       "      <td>2</td>\n",
       "      <td>http://www.realestate.com.au/sold/property-hou...</td>\n",
       "      <td>https://www.realestate.com.au/sold/between-400...</td>\n",
       "      <td>430000</td>\n",
       "      <td>430000</td>\n",
       "      <td>time.struct_time(tm_year=2011, tm_mon=2, tm_md...</td>\n",
       "      <td>2</td>\n",
       "    </tr>\n",
       "    <tr>\n",
       "      <th>13077</th>\n",
       "      <td>22176</td>\n",
       "      <td>$447,000</td>\n",
       "      <td>3 Elm Grove</td>\n",
       "      <td>Gungahlin</td>\n",
       "      <td>house</td>\n",
       "      <td>Sold on 01 Nov 2010</td>\n",
       "      <td>3</td>\n",
       "      <td>2</td>\n",
       "      <td>2</td>\n",
       "      <td>http://www.realestate.com.au/sold/property-hou...</td>\n",
       "      <td>https://www.realestate.com.au/sold/between-400...</td>\n",
       "      <td>447000</td>\n",
       "      <td>447000</td>\n",
       "      <td>time.struct_time(tm_year=2010, tm_mon=11, tm_m...</td>\n",
       "      <td>11</td>\n",
       "    </tr>\n",
       "  </tbody>\n",
       "</table>\n",
       "</div>"
      ],
      "text/plain": [
       "       Unnamed: 0     price                    address     suburb   type  \\\n",
       "12840       21838  $255,000       34/6 Gungahlin Place  Gungahlin  house   \n",
       "12841       21840  $320,000  47b Mary Gillespie Avenue  Gungahlin  house   \n",
       "13075       22160  $355,000   303 Anthony Rolfe Street  Gungahlin  house   \n",
       "13076       22174  $430,000   208 Anthony Rolfe Avenue  Gungahlin  house   \n",
       "13077       22176  $447,000                3 Elm Grove  Gungahlin  house   \n",
       "\n",
       "                      date  bed  bath  carpark  \\\n",
       "12840  Sold on 14 Oct 2016    1     1        1   \n",
       "12841  Sold on 03 Aug 2016    2     1        1   \n",
       "13075  Sold on 12 Dec 2008    2     2        2   \n",
       "13076  Sold on 18 Feb 2011    3     2        2   \n",
       "13077  Sold on 01 Nov 2010    3     2        2   \n",
       "\n",
       "                                                    link  \\\n",
       "12840  http://www.realestate.com.au/sold/property-hou...   \n",
       "12841  http://www.realestate.com.au/sold/property-hou...   \n",
       "13075  http://www.realestate.com.au/sold/property-hou...   \n",
       "13076  http://www.realestate.com.au/sold/property-hou...   \n",
       "13077  http://www.realestate.com.au/sold/property-hou...   \n",
       "\n",
       "                                                   refer  new_price  \\\n",
       "12840  https://www.realestate.com.au/sold/between-0-3...     255000   \n",
       "12841  https://www.realestate.com.au/sold/between-0-3...     320000   \n",
       "13075  https://www.realestate.com.au/sold/between-350...     355000   \n",
       "13076  https://www.realestate.com.au/sold/between-400...     430000   \n",
       "13077  https://www.realestate.com.au/sold/between-400...     447000   \n",
       "\n",
       "       price_int                                          sold_date month  \n",
       "12840     255000  time.struct_time(tm_year=2016, tm_mon=10, tm_m...    10  \n",
       "12841     320000  time.struct_time(tm_year=2016, tm_mon=8, tm_md...     8  \n",
       "13075     355000  time.struct_time(tm_year=2008, tm_mon=12, tm_m...    12  \n",
       "13076     430000  time.struct_time(tm_year=2011, tm_mon=2, tm_md...     2  \n",
       "13077     447000  time.struct_time(tm_year=2010, tm_mon=11, tm_m...    11  "
      ]
     },
     "execution_count": 60,
     "metadata": {},
     "output_type": "execute_result"
    }
   ],
   "source": [
    "north.head()"
   ]
  },
  {
   "cell_type": "code",
   "execution_count": 61,
   "metadata": {
    "collapsed": true
   },
   "outputs": [],
   "source": [
    "import statsmodels.api as sm"
   ]
  },
  {
   "cell_type": "code",
   "execution_count": 62,
   "metadata": {
    "collapsed": true
   },
   "outputs": [],
   "source": [
    "X=north['bed']"
   ]
  },
  {
   "cell_type": "code",
   "execution_count": 63,
   "metadata": {
    "collapsed": true
   },
   "outputs": [],
   "source": [
    "X=sm.add_constant(X)"
   ]
  },
  {
   "cell_type": "code",
   "execution_count": 64,
   "metadata": {
    "collapsed": true
   },
   "outputs": [],
   "source": [
    "y=north['price_int']"
   ]
  },
  {
   "cell_type": "code",
   "execution_count": 65,
   "metadata": {
    "collapsed": true
   },
   "outputs": [],
   "source": [
    "linear_regression=sm.OLS(y,X)"
   ]
  },
  {
   "cell_type": "code",
   "execution_count": 66,
   "metadata": {
    "collapsed": true
   },
   "outputs": [],
   "source": [
    "fitted_model=linear_regression.fit()"
   ]
  },
  {
   "cell_type": "code",
   "execution_count": 67,
   "metadata": {
    "collapsed": false
   },
   "outputs": [
    {
     "name": "stdout",
     "output_type": "stream",
     "text": [
      "                            OLS Regression Results                            \n",
      "==============================================================================\n",
      "Dep. Variable:              price_int   R-squared:                       0.440\n",
      "Model:                            OLS   Adj. R-squared:                  0.440\n",
      "Method:                 Least Squares   F-statistic:                     2864.\n",
      "Date:                Tue, 28 Mar 2017   Prob (F-statistic):               0.00\n",
      "Time:                        12:56:03   Log-Likelihood:                -47421.\n",
      "No. Observations:                3642   AIC:                         9.485e+04\n",
      "Df Residuals:                    3640   BIC:                         9.486e+04\n",
      "Df Model:                           1                                         \n",
      "Covariance Type:            nonrobust                                         \n",
      "==============================================================================\n",
      "                 coef    std err          t      P>|t|      [95.0% Conf. Int.]\n",
      "------------------------------------------------------------------------------\n",
      "const       4.269e+04   9511.729      4.488      0.000       2.4e+04  6.13e+04\n",
      "bed         1.368e+05   2556.776     53.512      0.000      1.32e+05  1.42e+05\n",
      "==============================================================================\n",
      "Omnibus:                      501.873   Durbin-Watson:                   1.096\n",
      "Prob(Omnibus):                  0.000   Jarque-Bera (JB):             6606.345\n",
      "Skew:                           0.087   Prob(JB):                         0.00\n",
      "Kurtosis:                       9.596   Cond. No.                         20.9\n",
      "==============================================================================\n",
      "\n",
      "Warnings:\n",
      "[1] Standard Errors assume that the covariance matrix of the errors is correctly specified.\n"
     ]
    }
   ],
   "source": [
    "print(fitted_model.summary())"
   ]
  },
  {
   "cell_type": "code",
   "execution_count": 68,
   "metadata": {
    "collapsed": false
   },
   "outputs": [
    {
     "name": "stdout",
     "output_type": "stream",
     "text": [
      "const     42692.646619\n",
      "bed      136818.570109\n",
      "dtype: float64\n"
     ]
    }
   ],
   "source": [
    "print(fitted_model.params)"
   ]
  },
  {
   "cell_type": "code",
   "execution_count": 70,
   "metadata": {
    "collapsed": true
   },
   "outputs": [],
   "source": [
    "import matplotlib.pyplot as plt  \n",
    "import matplotlib as mpl"
   ]
  },
  {
   "cell_type": "code",
   "execution_count": 71,
   "metadata": {
    "collapsed": true
   },
   "outputs": [],
   "source": [
    "%matplotlib inline"
   ]
  },
  {
   "cell_type": "code",
   "execution_count": 72,
   "metadata": {
    "collapsed": true
   },
   "outputs": [],
   "source": [
    "x_range=[north['bed'].min(),north['bed'].max()]"
   ]
  },
  {
   "cell_type": "code",
   "execution_count": 73,
   "metadata": {
    "collapsed": true
   },
   "outputs": [],
   "source": [
    "y_range=[north['price_int'].min(),north['price_int'].max()]"
   ]
  },
  {
   "cell_type": "code",
   "execution_count": 74,
   "metadata": {
    "collapsed": false
   },
   "outputs": [
    {
     "data": {
      "image/png": "[encoded data removed]",
      "text/plain": [
       "<matplotlib.figure.Figure at 0x7f71bc8f4390>"
      ]
     },
     "metadata": {},
     "output_type": "display_data"
    }
   ],
   "source": [
    "scatter_plot=north.plot(kind='scatter',x='bed',y='price_int',xlim=x_range,ylim=y_range)\n",
    "fitted_values = fitted_model.predict(X)\n",
    "regression_line=scatter_plot.plot(north['bed'],fitted_values,'-',color='orange',linewidth=1)"
   ]
  }
 ],
 "metadata": {
  "kernelspec": {
   "display_name": "Python 3",
   "language": "python",
   "name": "python3"
  },
  "language_info": {
   "codemirror_mode": {
    "name": "ipython",
    "version": 3
   },
   "file_extension": ".py",
   "mimetype": "text/x-python",
   "name": "python",
   "nbconvert_exporter": "python",
   "pygments_lexer": "ipython3",
   "version": "3.6.0"
  }
 },
 "nbformat": 4,
 "nbformat_minor": 2
}
