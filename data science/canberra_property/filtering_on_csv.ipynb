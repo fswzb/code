{
 "cells": [
  {
   "cell_type": "code",
   "execution_count": 11,
   "metadata": {
    "collapsed": true
   },
   "outputs": [],
   "source": [
    "import csv\n",
    "import re"
   ]
  },
  {
   "cell_type": "code",
   "execution_count": 12,
   "metadata": {
    "collapsed": true
   },
   "outputs": [],
   "source": [
    "fp=open('output.csv','r')"
   ]
  },
  {
   "cell_type": "markdown",
   "metadata": {},
   "source": [
    "reader=csv.reader(fp)"
   ]
  },
  {
   "cell_type": "code",
   "execution_count": 13,
   "metadata": {
    "collapsed": false
   },
   "outputs": [],
   "source": [
    "suburb_dict={}"
   ]
  },
  {
   "cell_type": "code",
   "execution_count": 14,
   "metadata": {
    "collapsed": true
   },
   "outputs": [],
   "source": [
    "text='\"$745,000\",111 Kelleway Avenue,Nicholls,house,Sold on 22 Feb 2016,4,2,2,http://www.realestate.com.au/sold/property-house-act-nicholls-121736730,https://www.realestate.com.au/sold/in-2912/list-2185'"
   ]
  },
  {
   "cell_type": "code",
   "execution_count": 15,
   "metadata": {
    "collapsed": true
   },
   "outputs": [],
   "source": [
    "pattern=re.compile(r'(?:in\\-)(\\d{4})(?:\\/list\\-)(\\d+)')"
   ]
  },
  {
   "cell_type": "code",
   "execution_count": 16,
   "metadata": {
    "collapsed": true
   },
   "outputs": [],
   "source": [
    "r=pattern.search(text)"
   ]
  },
  {
   "cell_type": "code",
   "execution_count": 17,
   "metadata": {
    "collapsed": false
   },
   "outputs": [
    {
     "data": {
      "text/plain": [
       "('2912', '2185')"
      ]
     },
     "execution_count": 17,
     "metadata": {},
     "output_type": "execute_result"
    }
   ],
   "source": [
    "r.groups()"
   ]
  },
  {
   "cell_type": "code",
   "execution_count": 18,
   "metadata": {
    "collapsed": true
   },
   "outputs": [],
   "source": [
    "(suburb,num)=r.groups()"
   ]
  },
  {
   "cell_type": "code",
   "execution_count": 19,
   "metadata": {
    "collapsed": false
   },
   "outputs": [
    {
     "data": {
      "text/plain": [
       "2185"
      ]
     },
     "execution_count": 19,
     "metadata": {},
     "output_type": "execute_result"
    }
   ],
   "source": [
    "int(num)"
   ]
  },
  {
   "cell_type": "code",
   "execution_count": 20,
   "metadata": {
    "collapsed": false
   },
   "outputs": [],
   "source": [
    "for line in fp:\n",
    "    r=pattern.search(line)\n",
    "    if r:\n",
    "        (suburb,num)=r.groups()\n",
    "        if suburb not in suburb_dict.keys():\n",
    "            suburb_dict[suburb]=int(num)\n",
    "        else:\n",
    "            value=suburb_dict[suburb]\n",
    "            if int(num) > value:\n",
    "                suburb_dict[suburb]=int(num)"
   ]
  },
  {
   "cell_type": "code",
   "execution_count": 21,
   "metadata": {
    "collapsed": false
   },
   "outputs": [
    {
     "name": "stdout",
     "output_type": "stream",
     "text": [
      "{'2905': 129, '2914': 100, '2602': 139, '2904': 53, '2603': 50, '2906': 103, '2606': 43, '2911': 12, '2912': 2185, '2600': 42, '2605': 46, '2611': 104, '2607': 60, '2913': 146, '2612': 71, '2900': 12, '2615': 191, '2604': 65, '2609': 2, '2903': 37, '2610': 2, '2902': 199, '2601': 14, '2901': 2, '2614': 70}\n"
     ]
    }
   ],
   "source": [
    "print(suburb_dict)"
   ]
  }
 ],
 "metadata": {
  "anaconda-cloud": {},
  "kernelspec": {
   "display_name": "Python [conda root]",
   "language": "python",
   "name": "conda-root-py"
  },
  "language_info": {
   "codemirror_mode": {
    "name": "ipython",
    "version": 3
   },
   "file_extension": ".py",
   "mimetype": "text/x-python",
   "name": "python",
   "nbconvert_exporter": "python",
   "pygments_lexer": "ipython3",
   "version": "3.5.3"
  }
 },
 "nbformat": 4,
 "nbformat_minor": 1
}
