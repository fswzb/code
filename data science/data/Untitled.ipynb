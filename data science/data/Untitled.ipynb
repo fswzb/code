{
 "cells": [
  {
   "cell_type": "code",
   "execution_count": 1,
   "metadata": {
    "collapsed": true
   },
   "outputs": [],
   "source": [
    "import pandas as pd\n",
    "from pivottablejs import pivot_ui"
   ]
  },
  {
   "cell_type": "code",
   "execution_count": 13,
   "metadata": {
    "collapsed": false
   },
   "outputs": [],
   "source": [
    "df=pd.read_csv(\"2009-2059_ACT_Population.csv\")"
   ]
  },
  {
   "cell_type": "code",
   "execution_count": 14,
   "metadata": {
    "collapsed": false,
    "scrolled": true
   },
   "outputs": [
    {
     "data": {
      "text/html": [
       "<div>\n",
       "<table border=\"1\" class=\"dataframe\">\n",
       "  <thead>\n",
       "    <tr style=\"text-align: right;\">\n",
       "      <th></th>\n",
       "      <th>Sex</th>\n",
       "      <th>Age</th>\n",
       "      <th>Estimated 1971</th>\n",
       "      <th>Estimated 1972</th>\n",
       "      <th>Estimated 1973</th>\n",
       "      <th>Estimated 1974</th>\n",
       "      <th>Estimated 1975</th>\n",
       "      <th>Estimated 1976</th>\n",
       "      <th>Estimated 1977</th>\n",
       "      <th>Estimated 1978</th>\n",
       "      <th>...</th>\n",
       "      <th>Projected 2050</th>\n",
       "      <th>Projected 2051</th>\n",
       "      <th>Projected 2052</th>\n",
       "      <th>Projected 2053</th>\n",
       "      <th>Projected 2054</th>\n",
       "      <th>Projected 2055</th>\n",
       "      <th>Projected 2056</th>\n",
       "      <th>Projected 2057</th>\n",
       "      <th>Projected 2058</th>\n",
       "      <th>Projected 2059</th>\n",
       "    </tr>\n",
       "  </thead>\n",
       "  <tbody>\n",
       "    <tr>\n",
       "      <th>0</th>\n",
       "      <td>Persons</td>\n",
       "      <td>0</td>\n",
       "      <td>3833</td>\n",
       "      <td>4049</td>\n",
       "      <td>4026</td>\n",
       "      <td>4280</td>\n",
       "      <td>4255</td>\n",
       "      <td>4157</td>\n",
       "      <td>4381</td>\n",
       "      <td>4300</td>\n",
       "      <td>...</td>\n",
       "      <td>6124</td>\n",
       "      <td>6142</td>\n",
       "      <td>6156</td>\n",
       "      <td>6165</td>\n",
       "      <td>6172</td>\n",
       "      <td>6176</td>\n",
       "      <td>6179</td>\n",
       "      <td>6182</td>\n",
       "      <td>6184</td>\n",
       "      <td>6188</td>\n",
       "    </tr>\n",
       "    <tr>\n",
       "      <th>1</th>\n",
       "      <td>Persons</td>\n",
       "      <td>1</td>\n",
       "      <td>3655</td>\n",
       "      <td>3983</td>\n",
       "      <td>4310</td>\n",
       "      <td>4292</td>\n",
       "      <td>4562</td>\n",
       "      <td>4378</td>\n",
       "      <td>4197</td>\n",
       "      <td>4395</td>\n",
       "      <td>...</td>\n",
       "      <td>6116</td>\n",
       "      <td>6139</td>\n",
       "      <td>6157</td>\n",
       "      <td>6171</td>\n",
       "      <td>6180</td>\n",
       "      <td>6187</td>\n",
       "      <td>6191</td>\n",
       "      <td>6194</td>\n",
       "      <td>6197</td>\n",
       "      <td>6199</td>\n",
       "    </tr>\n",
       "    <tr>\n",
       "      <th>2</th>\n",
       "      <td>Persons</td>\n",
       "      <td>2</td>\n",
       "      <td>3478</td>\n",
       "      <td>3789</td>\n",
       "      <td>4265</td>\n",
       "      <td>4592</td>\n",
       "      <td>4553</td>\n",
       "      <td>4803</td>\n",
       "      <td>4412</td>\n",
       "      <td>4221</td>\n",
       "      <td>...</td>\n",
       "      <td>6110</td>\n",
       "      <td>6138</td>\n",
       "      <td>6161</td>\n",
       "      <td>6179</td>\n",
       "      <td>6193</td>\n",
       "      <td>6202</td>\n",
       "      <td>6209</td>\n",
       "      <td>6213</td>\n",
       "      <td>6216</td>\n",
       "      <td>6219</td>\n",
       "    </tr>\n",
       "    <tr>\n",
       "      <th>3</th>\n",
       "      <td>Persons</td>\n",
       "      <td>3</td>\n",
       "      <td>3324</td>\n",
       "      <td>3583</td>\n",
       "      <td>4036</td>\n",
       "      <td>4533</td>\n",
       "      <td>4838</td>\n",
       "      <td>4739</td>\n",
       "      <td>4794</td>\n",
       "      <td>4427</td>\n",
       "      <td>...</td>\n",
       "      <td>6093</td>\n",
       "      <td>6127</td>\n",
       "      <td>6155</td>\n",
       "      <td>6178</td>\n",
       "      <td>6196</td>\n",
       "      <td>6210</td>\n",
       "      <td>6219</td>\n",
       "      <td>6226</td>\n",
       "      <td>6230</td>\n",
       "      <td>6233</td>\n",
       "    </tr>\n",
       "    <tr>\n",
       "      <th>4</th>\n",
       "      <td>Persons</td>\n",
       "      <td>4</td>\n",
       "      <td>3227</td>\n",
       "      <td>3420</td>\n",
       "      <td>3794</td>\n",
       "      <td>4260</td>\n",
       "      <td>4766</td>\n",
       "      <td>5033</td>\n",
       "      <td>4758</td>\n",
       "      <td>4765</td>\n",
       "      <td>...</td>\n",
       "      <td>6068</td>\n",
       "      <td>6107</td>\n",
       "      <td>6141</td>\n",
       "      <td>6169</td>\n",
       "      <td>6192</td>\n",
       "      <td>6210</td>\n",
       "      <td>6224</td>\n",
       "      <td>6233</td>\n",
       "      <td>6240</td>\n",
       "      <td>6244</td>\n",
       "    </tr>\n",
       "  </tbody>\n",
       "</table>\n",
       "<p>5 rows × 91 columns</p>\n",
       "</div>"
      ],
      "text/plain": [
       "       Sex Age  Estimated 1971  Estimated 1972  Estimated 1973  \\\n",
       "0  Persons   0            3833            4049            4026   \n",
       "1  Persons   1            3655            3983            4310   \n",
       "2  Persons   2            3478            3789            4265   \n",
       "3  Persons   3            3324            3583            4036   \n",
       "4  Persons   4            3227            3420            3794   \n",
       "\n",
       "   Estimated 1974  Estimated 1975  Estimated 1976  Estimated 1977  \\\n",
       "0            4280            4255            4157            4381   \n",
       "1            4292            4562            4378            4197   \n",
       "2            4592            4553            4803            4412   \n",
       "3            4533            4838            4739            4794   \n",
       "4            4260            4766            5033            4758   \n",
       "\n",
       "   Estimated 1978       ...        Projected 2050  Projected 2051  \\\n",
       "0            4300       ...                  6124            6142   \n",
       "1            4395       ...                  6116            6139   \n",
       "2            4221       ...                  6110            6138   \n",
       "3            4427       ...                  6093            6127   \n",
       "4            4765       ...                  6068            6107   \n",
       "\n",
       "   Projected 2052  Projected 2053  Projected 2054  Projected 2055  \\\n",
       "0            6156            6165            6172            6176   \n",
       "1            6157            6171            6180            6187   \n",
       "2            6161            6179            6193            6202   \n",
       "3            6155            6178            6196            6210   \n",
       "4            6141            6169            6192            6210   \n",
       "\n",
       "   Projected 2056  Projected 2057  Projected 2058  Projected 2059  \n",
       "0            6179            6182            6184            6188  \n",
       "1            6191            6194            6197            6199  \n",
       "2            6209            6213            6216            6219  \n",
       "3            6219            6226            6230            6233  \n",
       "4            6224            6233            6240            6244  \n",
       "\n",
       "[5 rows x 91 columns]"
      ]
     },
     "execution_count": 14,
     "metadata": {},
     "output_type": "execute_result"
    }
   ],
   "source": [
    "df.head()"
   ]
  },
  {
   "cell_type": "code",
   "execution_count": 17,
   "metadata": {
    "collapsed": false
   },
   "outputs": [
    {
     "data": {
      "text/html": [
       "\n",
       "        <iframe\n",
       "            width=\"100%\"\n",
       "            height=\"500\"\n",
       "            src=\"pivottablejs.html\"\n",
       "            frameborder=\"0\"\n",
       "            allowfullscreen\n",
       "        ></iframe>\n",
       "        "
      ],
      "text/plain": [
       "<IPython.lib.display.IFrame at 0x7fe302807dd0>"
      ]
     },
     "execution_count": 17,
     "metadata": {},
     "output_type": "execute_result"
    }
   ],
   "source": [
    "pivot_ui(df)"
   ]
  },
  {
   "cell_type": "code",
   "execution_count": null,
   "metadata": {
    "collapsed": true
   },
   "outputs": [],
   "source": []
  }
 ],
 "metadata": {
  "anaconda-cloud": {},
  "kernelspec": {
   "display_name": "Python [default]",
   "language": "python",
   "name": "python2"
  },
  "language_info": {
   "codemirror_mode": {
    "name": "ipython",
    "version": 2
   },
   "file_extension": ".py",
   "mimetype": "text/x-python",
   "name": "python",
   "nbconvert_exporter": "python",
   "pygments_lexer": "ipython2",
   "version": "2.7.12"
  }
 },
 "nbformat": 4,
 "nbformat_minor": 1
}
