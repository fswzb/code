{
 "cells": [
  {
   "cell_type": "code",
   "execution_count": 1,
   "metadata": {
    "collapsed": false
   },
   "outputs": [],
   "source": [
    "import requests\n",
    "import re"
   ]
  },
  {
   "cell_type": "code",
   "execution_count": 2,
   "metadata": {
    "collapsed": true
   },
   "outputs": [],
   "source": [
    "url='https://www.propertyvalue.com.au'\n",
    "header={'Content-Type':'text/html','User-Agent':'Mozilla/5.0 (X11; Linux x86_64; rv:50.0) Gecko/20100101 Firefox/50.0','Accept':'*/*','Accept-Encoding':'gzip, deflate'}"
   ]
  },
  {
   "cell_type": "code",
   "execution_count": 3,
   "metadata": {
    "collapsed": true
   },
   "outputs": [],
   "source": [
    "session=requests.Session()"
   ]
  },
  {
   "cell_type": "code",
   "execution_count": 4,
   "metadata": {
    "collapsed": false
   },
   "outputs": [],
   "source": [
    "session.headers.update(header)"
   ]
  },
  {
   "cell_type": "code",
   "execution_count": 5,
   "metadata": {
    "collapsed": true
   },
   "outputs": [],
   "source": [
    "req=session.get(url)"
   ]
  },
  {
   "cell_type": "code",
   "execution_count": 6,
   "metadata": {
    "collapsed": false
   },
   "outputs": [
    {
     "name": "stdout",
     "output_type": "stream",
     "text": [
      "{'Cache-control': 'no-cache=\"set-cookie\"', 'Content-Encoding': 'gzip', 'Content-Type': 'text/html;charset=UTF-8', 'Date': 'Wed, 29 Mar 2017 05:56:01 GMT', 'Server': 'TTserver', 'Set-Cookie': 'JSESSIONID=5B96EADAD9DEB61112E17226D71A3564; Path=/; HttpOnly, freemium_guest_id=6d7180932ac025c530f0ce7b18e8bee7; Expires=Wed, 05-Apr-2017 05:56:01 GMT; Path=/; HttpOnly, AWSELB=B313D93916C938D1385E130AEAAD6234F536BFACDD495AD0DDB6E5FA71B3955E38449857BC6FE88046F64B56F5663C7CBD28BC5A4901EDDBEC6CCF3186C175C9331D47419E;PATH=/, visid_incap_488260=cAGA2WUsSoma+z67KxnIAnFM21gAAAAAQUIPAAAAAADa4DDLbAg1YQs3l11GllEc; expires=Wed, 28 Mar 2018 12:16:29 GMT; path=/; Domain=.propertyvalue.com.au, nlbi_488260=ILjiJM3htRGlZBDmfi2xygAAAACN32GfNKCa+8ZyDvLho9cL; path=/; Domain=.propertyvalue.com.au, incap_ses_136_488260=hMixHx1ovgUlzclcNyzjAXFM21gAAAAAUGNY0iJ5PsXlYjSel2zKkA==; path=/; Domain=.propertyvalue.com.au, ___utmvmwFuItpE=slDaGwfoBdS; path=/; Max-Age=900, ___utmvawFuItpE=rIQ\\x01NvCY; path=/; Max-Age=900, ___utmvbwFuItpE=eZU\\r\\n    XaTOiald: qtm; path=/; Max-Age=900', 'Vary': 'Accept-Encoding', 'transfer-encoding': 'chunked', 'Connection': 'keep-alive', 'X-Iinfo': '5-16289198-16289206 NNNN CT(2 2 0) RT(1490766961057 68) q(0 0 0 0) r(1 1) U2', 'X-CDN': 'Incapsula'}\n"
     ]
    }
   ],
   "source": [
    "print(req.headers)"
   ]
  },
  {
   "cell_type": "code",
   "execution_count": 7,
   "metadata": {
    "collapsed": true
   },
   "outputs": [],
   "source": [
    "h=req.headers"
   ]
  },
  {
   "cell_type": "code",
   "execution_count": 8,
   "metadata": {
    "collapsed": false
   },
   "outputs": [],
   "source": [
    "XIinfo=h.get('X-Iinfo')"
   ]
  },
  {
   "cell_type": "code",
   "execution_count": 9,
   "metadata": {
    "collapsed": false
   },
   "outputs": [],
   "source": [
    "c=req.cookies"
   ]
  },
  {
   "cell_type": "code",
   "execution_count": 10,
   "metadata": {
    "collapsed": false
   },
   "outputs": [
    {
     "name": "stdout",
     "output_type": "stream",
     "text": [
      "<RequestsCookieJar[<Cookie incap_ses_136_488260=hMixHx1ovgUlzclcNyzjAXFM21gAAAAAUGNY0iJ5PsXlYjSel2zKkA== for .propertyvalue.com.au/>, <Cookie nlbi_488260=ILjiJM3htRGlZBDmfi2xygAAAACN32GfNKCa+8ZyDvLho9cL for .propertyvalue.com.au/>, <Cookie visid_incap_488260=cAGA2WUsSoma+z67KxnIAnFM21gAAAAAQUIPAAAAAADa4DDLbAg1YQs3l11GllEc for .propertyvalue.com.au/>, <Cookie AWSELB=B313D93916C938D1385E130AEAAD6234F536BFACDD495AD0DDB6E5FA71B3955E38449857BC6FE88046F64B56F5663C7CBD28BC5A4901EDDBEC6CCF3186C175C9331D47419E for www.propertyvalue.com.au/>, <Cookie JSESSIONID=5B96EADAD9DEB61112E17226D71A3564 for www.propertyvalue.com.au/>, <Cookie ___utmvawFuItpE=rIQ\u0001NvCY for www.propertyvalue.com.au/>, <Cookie ___utmvbwFuItpE=eZU\r\n",
      "    XaTOiald: qtm for www.propertyvalue.com.au/>, <Cookie ___utmvmwFuItpE=slDaGwfoBdS for www.propertyvalue.com.au/>, <Cookie freemium_guest_id=6d7180932ac025c530f0ce7b18e8bee7 for www.propertyvalue.com.au/>]>\n"
     ]
    }
   ],
   "source": [
    "print(c)"
   ]
  },
  {
   "cell_type": "code",
   "execution_count": 11,
   "metadata": {
    "collapsed": true
   },
   "outputs": [],
   "source": [
    "session.cookies.update(c)"
   ]
  },
  {
   "cell_type": "code",
   "execution_count": 12,
   "metadata": {
    "collapsed": false
   },
   "outputs": [
    {
     "name": "stdout",
     "output_type": "stream",
     "text": [
      "5-16289198-16289206 NNNN CT(2 2 0) RT(1490766961057 68) q(0 0 0 0) r(1 1) U2\n"
     ]
    }
   ],
   "source": [
    "print(XIinfo)"
   ]
  },
  {
   "cell_type": "code",
   "execution_count": 13,
   "metadata": {
    "collapsed": true
   },
   "outputs": [],
   "source": [
    "pattern=re.compile(r'(?:RT\\()(\\d+)')"
   ]
  },
  {
   "cell_type": "code",
   "execution_count": 14,
   "metadata": {
    "collapsed": false
   },
   "outputs": [],
   "source": [
    "r=pattern.search(XIinfo)"
   ]
  },
  {
   "cell_type": "code",
   "execution_count": 15,
   "metadata": {
    "collapsed": false
   },
   "outputs": [
    {
     "name": "stdout",
     "output_type": "stream",
     "text": [
      "<_sre.SRE_Match object; span=(35, 51), match='RT(1490766961057'>\n"
     ]
    }
   ],
   "source": [
    "print(r)"
   ]
  },
  {
   "cell_type": "code",
   "execution_count": 16,
   "metadata": {
    "collapsed": false
   },
   "outputs": [
    {
     "name": "stdout",
     "output_type": "stream",
     "text": [
      "('1490766961057',)\n"
     ]
    }
   ],
   "source": [
    "print(r.groups())"
   ]
  },
  {
   "cell_type": "code",
   "execution_count": 17,
   "metadata": {
    "collapsed": true
   },
   "outputs": [],
   "source": [
    "XIinfo=r.groups()[0]"
   ]
  },
  {
   "cell_type": "code",
   "execution_count": 18,
   "metadata": {
    "collapsed": false
   },
   "outputs": [
    {
     "name": "stdout",
     "output_type": "stream",
     "text": [
      "1490766961057\n"
     ]
    }
   ],
   "source": [
    "print(XIinfo)"
   ]
  },
  {
   "cell_type": "code",
   "execution_count": 19,
   "metadata": {
    "collapsed": false
   },
   "outputs": [
    {
     "name": "stdout",
     "output_type": "stream",
     "text": [
      "108%20burrumarra%20ave%20ngunnawal\n"
     ]
    }
   ],
   "source": [
    "address='108 burrumarra ave ngunnawal'\n",
    "address=address.replace(' ','%20')\n",
    "print(address)"
   ]
  },
  {
   "cell_type": "code",
   "execution_count": 20,
   "metadata": {
    "collapsed": true
   },
   "outputs": [],
   "source": [
    "req=session.get(url+'/?op=myrp_widgets.freemiumInvestorSLAS.singleLineSearchHandler&subop=getSuggestionList&searchCategories=1%2C2%2C3%2C4&searchString='+address+'&maxSuggestionResults=5&_='+XIinfo)"
   ]
  },
  {
   "cell_type": "code",
   "execution_count": 21,
   "metadata": {
    "collapsed": false
   },
   "outputs": [
    {
     "name": "stdout",
     "output_type": "stream",
     "text": [
      "https://www.propertyvalue.com.au/?op=myrp_widgets.freemiumInvestorSLAS.singleLineSearchHandler&subop=getSuggestionList&searchCategories=1%2C2%2C3%2C4&searchString=108%20burrumarra%20ave%20ngunnawal&maxSuggestionResults=5&_=1490766961057\n"
     ]
    }
   ],
   "source": [
    "print(req.url)"
   ]
  },
  {
   "cell_type": "code",
   "execution_count": 22,
   "metadata": {
    "collapsed": false
   },
   "outputs": [
    {
     "name": "stdout",
     "output_type": "stream",
     "text": [
      "{'Content-Type': 'text/html', 'Connection': 'close, close', 'Cache-Control': 'no-cache', 'Content-Length': '6746', 'X-Iinfo': '5-16289198-0 0NNN RT(1490766961057 1539) q(0 -1 -1 -1) r(0 -1) B10(4,314,0) U18'}\n"
     ]
    }
   ],
   "source": [
    "print(req.headers)"
   ]
  },
  {
   "cell_type": "code",
   "execution_count": 23,
   "metadata": {
    "collapsed": false
   },
   "outputs": [
    {
     "name": "stdout",
     "output_type": "stream",
     "text": [
      "b'<html>\\r\\n<head>\\r\\n<META NAME=\"robots\" CONTENT=\"noindex,nofollow\">\\r\\n<script>\\r\\n(function(){function getSessionCookies(){var cookieArray=new Array();var cName=/^\\\\s?incap_ses_/;var c=document.cookie.split(\";\");for(var i=0;i<c.length;i++){var key=c[i].substr(0,c[i].indexOf(\"=\"));var value=c[i].substr(c[i].indexOf(\"=\")+1,c[i].length);if(cName.test(key)){cookieArray[cookieArray.length]=value}}return cookieArray}function setIncapCookie(vArray){var res;try{var cookies=getSessionCookies();var digests=new Array(cookies.length);for(var i=0;i<cookies.length;i++){digests[i]=simpleDigest((vArray)+cookies[i])}res=vArray+\",digest=\"+(digests.join())}catch(e){res=vArray+\",digest=\"+(encodeURIComponent(e.toString()))}createCookie(\"___utmvc\",res,20)}function simpleDigest(mystr){var res=0;for(var i=0;i<mystr.length;i++){res+=mystr.charCodeAt(i)}return res}function createCookie(name,value,seconds){var expires=\"\";if(seconds){var date=new Date();date.setTime(date.getTime()+(seconds*1000));var expires=\"; expires=\"+date.toGMTString()}document.cookie=name+\"=\"+value+expires+\"; path=/\"}function test(o){var res=\"\";var vArray=new Array();for(var j=0;j<o.length;j++){var test=o[j][0];switch(o[j][1]){case\"exists\":try{if(typeof(eval(test))!=\"undefined\"){vArray[vArray.length]=encodeURIComponent(test+\"=true\")}else{vArray[vArray.length]=encodeURIComponent(test+\"=false\")}}catch(e){vArray[vArray.length]=encodeURIComponent(test+\"=false\")}break;case\"value\":try{try{res=eval(test);if(typeof(res)===\"undefined\"){vArray[vArray.length]=encodeURIComponent(test+\"=undefined\")}else if(res===null){vArray[vArray.length]=encodeURIComponent(test+\"=null\")}else{vArray[vArray.length]=encodeURIComponent(test+\"=\"+res.toString())}}catch(e){vArray[vArray.length]=encodeURIComponent(test+\"=cannot evaluate\");break}break}catch(e){vArray[vArray.length]=encodeURIComponent(test+\"=\"+e)}case\"plugin_extentions\":try{var extentions=[];try{i=extentions.indexOf(\"i\")}catch(e){vArray[vArray.length]=encodeURIComponent(\"plugin_ext=indexOf is not a function\");break}try{var num=navigator.plugins.length;if(num==0||num==null){vArray[vArray.length]=encodeURIComponent(\"plugin_ext=no plugins\");break}}catch(e){vArray[vArray.length]=encodeURIComponent(\"plugin_ext=cannot evaluate\");break}for(var i=0;i<navigator.plugins.length;i++){if(typeof(navigator.plugins[i])==\"undefined\"){vArray[vArray.length]=encodeURIComponent(\"plugin_ext=plugins[i] is undefined\");break}var filename=navigator.plugins[i].filename;var ext=\"no extention\";if(typeof(filename)==\"undefined\"){ext=\"filename is undefined\"}else if(filename.split(\".\").length>1){ext=filename.split(\\'.\\').pop()}if(extentions.indexOf(ext)<0){extentions.push(ext)}}for(i=0;i<extentions.length;i++){vArray[vArray.length]=encodeURIComponent(\"plugin_ext=\"+extentions[i])}}catch(e){vArray[vArray.length]=encodeURIComponent(\"plugin_ext=\"+e)}break}}vArray=vArray.join();return vArray}var o=[[\"navigator\",\"exists\"],[\"navigator.vendor\",\"value\"],[\"navigator.appName\",\"value\"],[\"navigator.plugins.length==0\",\"value\"],[\"navigator.platform\",\"value\"],[\"navigator.webdriver\",\"value\"],[\"platform\",\"plugin_extentions\"],[\"ActiveXObject\",\"exists\"],[\"webkitURL\",\"exists\"],[\"_phantom\",\"exists\"],[\"callPhantom\",\"exists\"],[\"chrome\",\"exists\"],[\"yandex\",\"exists\"],[\"opera\",\"exists\"],[\"opr\",\"exists\"],[\"safari\",\"exists\"],[\"awesomium\",\"exists\"],[\"puffinDevice\",\"exists\"],[\"__nightmare\",\"exists\"],[\"_Selenium_IDE_Recorder\",\"exists\"],[\"document.__webdriver_script_fn\",\"exists\"],[\"document.$cdc_asdjflasutopfhvcZLmcfl_\",\"exists\"],[\"process.version\",\"exists\"],[\"navigator.cpuClass\",\"exists\"],[\"navigator.oscpu\",\"exists\"],[\"navigator.connection\",\"exists\"],[\"window.outerWidth==0\",\"value\"],[\"window.outerHeight==0\",\"value\"],[\"window.WebGLRenderingContext\",\"exists\"],[\"document.documentMode\",\"value\"],[\"eval.toString().length\",\"value\"]];try{setIncapCookie(test(o));document.createElement(\"img\").src=\"/_Incapsula_Resource?SWKMTFSR=1&e=\"+Math.random()}catch(e){img=document.createElement(\"img\");img.src=\"/_Incapsula_Resource?SWKMTFSR=1&e=\"+e}})();\\r\\n</script>\\r\\n<script>\\r\\n(function() { \\r\\nvar z=\"\";var b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for (var i=0;i<b.length;i+=2){z=z+parseInt(b.substring(i, i+2), 16)+\",\";}z = z.substring(0,z.length-1); eval(eval(\\'String.fromCharCode(\\'+z+\\')\\'));})();\\r\\n</script></head>\\r\\n<body>\\r\\n<iframe style=\"display:none;visibility:hidden;\" src=\"//content.incapsula.com/jsTest.html\" id=\"gaIframe\"></iframe>\\r\\n</body></html>'\n"
     ]
    }
   ],
   "source": [
    "print(req.content)"
   ]
  },
  {
   "cell_type": "code",
   "execution_count": null,
   "metadata": {
    "collapsed": true
   },
   "outputs": [],
   "source": []
  }
 ],
 "metadata": {
  "kernelspec": {
   "display_name": "Python 3",
   "language": "python",
   "name": "python3"
  },
  "language_info": {
   "codemirror_mode": {
    "name": "ipython",
    "version": 3
   },
   "file_extension": ".py",
   "mimetype": "text/x-python",
   "name": "python",
   "nbconvert_exporter": "python",
   "pygments_lexer": "ipython3",
   "version": "3.6.0"
  }
 },
 "nbformat": 4,
 "nbformat_minor": 2
}
