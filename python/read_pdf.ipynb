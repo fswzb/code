{
 "cells": [
  {
   "cell_type": "code",
   "execution_count": 13,
   "metadata": {
    "collapsed": false
   },
   "outputs": [],
   "source": [
    "import PyPDF2\n",
    "import re"
   ]
  },
  {
   "cell_type": "code",
   "execution_count": 2,
   "metadata": {
    "collapsed": true
   },
   "outputs": [],
   "source": [
    "fp=open('canberra_land_sales_result.pdf','rb')"
   ]
  },
  {
   "cell_type": "code",
   "execution_count": 3,
   "metadata": {
    "collapsed": true
   },
   "outputs": [],
   "source": [
    "pdfReader = PyPDF2.PdfFileReader(fp)"
   ]
  },
  {
   "cell_type": "code",
   "execution_count": 8,
   "metadata": {
    "collapsed": false
   },
   "outputs": [
    {
     "name": "stdout",
     "output_type": "stream",
     "text": [
      "38\n"
     ]
    }
   ],
   "source": [
    "TotalPages=pdfReader.numPages\n",
    "print(TotalPages)"
   ]
  },
  {
   "cell_type": "code",
   "execution_count": 9,
   "metadata": {
    "collapsed": false
   },
   "outputs": [],
   "source": [
    "content=pdfReader.getPage(0).extractText()"
   ]
  },
  {
   "cell_type": "code",
   "execution_count": 19,
   "metadata": {
    "collapsed": false
   },
   "outputs": [
    {
     "data": {
      "text/plain": [
       "[]"
      ]
     },
     "execution_count": 19,
     "metadata": {},
     "output_type": "execute_result"
    }
   ],
   "source": [
    "pattern=re.compile(r'\\d{2}\\/\\d{2}\\/\\d{4}.+\\d{2}\\/\\d{2}\\/\\d{4}')\n",
    "pattern.findall(content)"
   ]
  },
  {
   "cell_type": "code",
   "execution_count": 18,
   "metadata": {
    "collapsed": false
   },
   "outputs": [
    {
     "data": {
      "text/plain": [
       "'DATE \\nBLOCK TYPE\\nNUMBER\\nSUBURB\\nBLOCK\\nSECTION\\nAREA (m\\n2\\n)\\nMAX GFA (m2)\\nand/or\\nMAX Dwelling no.\\nPRICE SOLD\\nPURCHASER\\n03/02/2017\\nResidential\\n3\\nThrosby\\n1 to 20\\n43\\n8,408\\n20\\n$7,899,900\\nDelta Design and Construction\\n03/02/2017\\nResidential\\n5\\nThrosby\\n2-4; 6-10; \\n12;15;17 & \\n19\\n44\\n4,667\\n13\\n$4,810,000\\nRoman Development Holdings\\n03/02/2017\\nResidential\\n6\\nThrosby\\n2 to 25\\n45\\n9,865\\n24\\n$9,393,600\\nDelta Design and Construction\\n03/02/2017\\nResidential\\n9\\nThrosby\\n3;6;7;9 & 11\\n35\\n2,025\\n5\\n$1,854,000\\nMSL Projects\\n03/02/2017\\nResidential\\n11\\nThrosby\\n1;3;4;5;6;7;2\\n4\\n33\\n2,954\\n7\\n$2,698,600\\nMSL Projects\\n03/02/2017\\nResidential\\n15\\nThrosby\\n1-14; 1-15; 1\\n4; 2; 3\\n18,101\\n45\\n$14,631,150\\nWellington Property Group\\n22/12/2016\\nIndustrial\\nHume\\n9\\n21\\n22,671\\n$2,800,000\\nNational Formwork Pty Ltd (ACN 119 745 461) atf \\nHume Property Trust.\\n30/11/2016\\nCommunity\\nCharnwood\\n22\\n97\\n3,600\\n$2,145,000\\nChildcare Investments Aus Pty Ltd\\n30/11/2016\\nMix Use\\nAmaroo \\n9\\n111\\n580\\n8\\n$635,000\\nAnthony Lieu\\n30/11/2016\\nMulti Unit\\nMoncrieff\\n15\\n42\\n3,352\\n14\\n$2,000,000\\nRMD Projects No.4 Pty Ltd\\n30/11/2016\\nMulti Unit\\nMoncrieff\\n1\\n42\\n1,586\\n6\\n$975,000\\nMjdur Miller Pty Ltd                                                                      \\nLong Term Investment Pty Ltd\\n  SALES RESULTS\\n \\n Last updated: 13/01/2017\\n'"
      ]
     },
     "execution_count": 18,
     "metadata": {},
     "output_type": "execute_result"
    }
   ],
   "source": [
    "content\n"
   ]
  },
  {
   "cell_type": "code",
   "execution_count": null,
   "metadata": {
    "collapsed": true
   },
   "outputs": [],
   "source": []
  }
 ],
 "metadata": {
  "anaconda-cloud": {},
  "kernelspec": {
   "display_name": "Python [default]",
   "language": "python",
   "name": "python3"
  },
  "language_info": {
   "codemirror_mode": {
    "name": "ipython",
    "version": 3
   },
   "file_extension": ".py",
   "mimetype": "text/x-python",
   "name": "python",
   "nbconvert_exporter": "python",
   "pygments_lexer": "ipython3",
   "version": "3.5.2"
  }
 },
 "nbformat": 4,
 "nbformat_minor": 1
}
