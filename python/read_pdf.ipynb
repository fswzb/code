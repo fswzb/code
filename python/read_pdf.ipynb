{
 "cells": [
  {
   "cell_type": "code",
   "execution_count": 8,
   "metadata": {
    "collapsed": false
   },
   "outputs": [],
   "source": [
    "import PyPDF2\n",
    "import re"
   ]
  },
  {
   "cell_type": "code",
   "execution_count": 9,
   "metadata": {
    "collapsed": true
   },
   "outputs": [],
   "source": [
    "fp=open('canberra_land_sales_result.pdf','rb')"
   ]
  },
  {
   "cell_type": "code",
   "execution_count": 10,
   "metadata": {
    "collapsed": true
   },
   "outputs": [],
   "source": [
    "pdfReader = PyPDF2.PdfFileReader(fp)"
   ]
  },
  {
   "cell_type": "code",
   "execution_count": 11,
   "metadata": {
    "collapsed": false
   },
   "outputs": [
    {
     "name": "stdout",
     "output_type": "stream",
     "text": [
      "38\n"
     ]
    }
   ],
   "source": [
    "TotalPages=pdfReader.numPages\n",
    "print(TotalPages)"
   ]
  },
  {
   "cell_type": "code",
   "execution_count": 12,
   "metadata": {
    "collapsed": false
   },
   "outputs": [],
   "source": [
    "content=pdfReader.getPage(0).extractText()\n",
    "content=content.replace('\\n','*')"
   ]
  },
  {
   "cell_type": "code",
   "execution_count": 34,
   "metadata": {
    "collapsed": true
   },
   "outputs": [],
   "source": [
    "def extract_info_from_page(pdf,num_of_page,pattern):\n",
    "    content=pdf.getPage(num_of_page).extractText()\n",
    "    content=content.replace('\\n','*')\n",
    "    result=pattern.findall(content)\n",
    "    return result"
   ]
  },
  {
   "cell_type": "code",
   "execution_count": 32,
   "metadata": {
    "collapsed": false
   },
   "outputs": [
    {
     "name": "stdout",
     "output_type": "stream",
     "text": [
      "['03/02/2017*Residential*3*Throsby*1 to 20*43*8,408*20*$7,899,900*Delta Design and Construction*', '03/02/2017*Residential*5*Throsby*2-4; 6-10; *12;15;17 & *19*44*4,667*13*$4,810,000*Roman Development Holdings*', '03/02/2017*Residential*6*Throsby*2 to 25*45*9,865*24*$9,393,600*Delta Design and Construction*', '03/02/2017*Residential*9*Throsby*3;6;7;9 & 11*35*2,025*5*$1,854,000*MSL Projects*', '03/02/2017*Residential*11*Throsby*1;3;4;5;6;7;2*4*33*2,954*7*$2,698,600*MSL Projects*', '03/02/2017*Residential*15*Throsby*1-14; 1-15; 1*4; 2; 3*18,101*45*$14,631,150*Wellington Property Group*', '22/12/2016*Industrial*Hume*9*21*22,671*$2,800,000*National Formwork Pty Ltd (ACN 119 745 461) atf *Hume Property Trust.*', '30/11/2016*Community*Charnwood*22*97*3,600*$2,145,000*Childcare Investments Aus Pty Ltd*', '30/11/2016*Mix Use*Amaroo *9*111*580*8*$635,000*Anthony Lieu*', '30/11/2016*Multi Unit*Moncrieff*15*42*3,352*14*$2,000,000*RMD Projects No.4 Pty Ltd*', '30/11/2016*Multi Unit*Moncrieff*1*42*1,586*6*$975,000*Mjdur Miller Pty Ltd                                                                      *Long Term Investment Pty Ltd*  SALES RESULTS* * Last updated: ']\n"
     ]
    }
   ],
   "source": [
    "pattern=re.compile(r'(\\d{2}\\/\\d{2}\\/\\d{4}.+?)(?=\\d{2}\\/\\d{2}\\/\\d{4})')\n",
    "result=pattern.findall(content)\n",
    "print(result)"
   ]
  },
  {
   "cell_type": "code",
   "execution_count": 35,
   "metadata": {
    "collapsed": false
   },
   "outputs": [
    {
     "name": "stdout",
     "output_type": "stream",
     "text": [
      "['03/02/2017*Residential*3*Throsby*1 to 20*43*8,408*20*$7,899,900*Delta Design and Construction*', '03/02/2017*Residential*5*Throsby*2-4; 6-10; *12;15;17 & *19*44*4,667*13*$4,810,000*Roman Development Holdings*', '03/02/2017*Residential*6*Throsby*2 to 25*45*9,865*24*$9,393,600*Delta Design and Construction*', '03/02/2017*Residential*9*Throsby*3;6;7;9 & 11*35*2,025*5*$1,854,000*MSL Projects*', '03/02/2017*Residential*11*Throsby*1;3;4;5;6;7;2*4*33*2,954*7*$2,698,600*MSL Projects*', '03/02/2017*Residential*15*Throsby*1-14; 1-15; 1*4; 2; 3*18,101*45*$14,631,150*Wellington Property Group*', '22/12/2016*Industrial*Hume*9*21*22,671*$2,800,000*National Formwork Pty Ltd (ACN 119 745 461) atf *Hume Property Trust.*', '30/11/2016*Community*Charnwood*22*97*3,600*$2,145,000*Childcare Investments Aus Pty Ltd*', '30/11/2016*Mix Use*Amaroo *9*111*580*8*$635,000*Anthony Lieu*', '30/11/2016*Multi Unit*Moncrieff*15*42*3,352*14*$2,000,000*RMD Projects No.4 Pty Ltd*', '30/11/2016*Multi Unit*Moncrieff*1*42*1,586*6*$975,000*Mjdur Miller Pty Ltd                                                                      *Long Term Investment Pty Ltd*  SALES RESULTS* * Last updated: ']\n",
      "['24/11/2016*Industrial*Hume*7*30*1,974*$395,000*Kevin John Campbell & Linda Maude Campbell ATF *The Campbell Super Fund*', '14/09/2016*Industrial*Hume*3*29*7,683*$1,120,000*R&A Andriolo Pty Limited as Trustee for Roberto *Andriolo Family Trust*', '31/08/2016*Mixed Use*Dickson*1, 5 & 6*77*29,000*697*$40,000,000*Art Projects Nominees Pty Ltd*', '29/08/2016*Industrial*Hume*6*30*2,073*$385,000*Scabina Pty Ltd as trustee for the Richardson Family *Trust *', '11/08/2016*Industrial*Hume*11*21*24,868*$3,108,500*FOY Group Limited*', '14/07/2016*Industrial*Hume*4*30*1,682*$335,000*Christopher James Convine*', '22/06/2016*Packaged lots *1*Throsby*17-19*33*749*3*$825,000*Viscon Homes *', '22/06/2016*Packaged lots *2*Throsby*20-21*33*500*2*$562,500*Viscon Homes*', '22/06/2016*Packaged lots *3*Throsby*22-23*33*500*2*$565,000*Miller and Tait Properties*', '22/06/2016*Packaged lots *4*Throsby*16-20*35*1,250*5*$1,410,000*Congli & Kinwee Jing Zheng*', '22/06/2016*Packaged lots *5*Throsby*21-24*35*1000*4*$1,120,000*Brilliant Building Group *']\n"
     ]
    }
   ],
   "source": [
    "print(extract_info_from_page(pdfReader,0,pattern))\n",
    "print(extract_info_from_page(pdfReader,1,pattern))"
   ]
  },
  {
   "cell_type": "code",
   "execution_count": null,
   "metadata": {
    "collapsed": true
   },
   "outputs": [],
   "source": []
  }
 ],
 "metadata": {
  "anaconda-cloud": {},
  "kernelspec": {
   "display_name": "Python [default]",
   "language": "python",
   "name": "python3"
  },
  "language_info": {
   "codemirror_mode": {
    "name": "ipython",
    "version": 3
   },
   "file_extension": ".py",
   "mimetype": "text/x-python",
   "name": "python",
   "nbconvert_exporter": "python",
   "pygments_lexer": "ipython3",
   "version": "3.5.2"
  }
 },
 "nbformat": 4,
 "nbformat_minor": 1
}
