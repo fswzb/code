{
 "cells": [
  {
   "cell_type": "code",
   "execution_count": 31,
   "metadata": {
    "collapsed": false
   },
   "outputs": [],
   "source": [
    "import PyPDF2\n",
    "import re\n",
    "import pandas as pd"
   ]
  },
  {
   "cell_type": "code",
   "execution_count": 32,
   "metadata": {
    "collapsed": true
   },
   "outputs": [],
   "source": [
    "fp=open('canberra_land_sales_result.pdf','rb')"
   ]
  },
  {
   "cell_type": "code",
   "execution_count": 33,
   "metadata": {
    "collapsed": true
   },
   "outputs": [],
   "source": [
    "def init_pdf_from_file(path):\n",
    "    fp=open(path,'rb')\n",
    "    pdfReader=PyPDF2.PdfFileReader(fp)\n",
    "    return pdfReader"
   ]
  },
  {
   "cell_type": "code",
   "execution_count": 34,
   "metadata": {
    "collapsed": true
   },
   "outputs": [],
   "source": [
    "def extract_info_from_page(pdf,num_of_page,pattern):\n",
    "    content=pdf.getPage(num_of_page).extractText()\n",
    "    content=content.replace('\\n','*')\n",
    "    result=pattern.findall(content)\n",
    "    return result"
   ]
  },
  {
   "cell_type": "code",
   "execution_count": 35,
   "metadata": {
    "collapsed": false
   },
   "outputs": [],
   "source": [
    "def extract_info_from_pages_into_list(pdf,pattern):\n",
    "    TotalPages=pdf.numPages\n",
    "    result=[]\n",
    "    #print(\"There are %d pages\"%TotalPages)\n",
    "    for page in range(TotalPages):\n",
    "        #print(\"%d of %d pages\"%(page,TotalPages))\n",
    "        each_page_info=extract_info_from_page(pdf,page,pattern)\n",
    "        #print(\"There are %d items\"%len(each_page_info))\n",
    "        result=result+each_page_info\n",
    "    return result"
   ]
  },
  {
   "cell_type": "code",
   "execution_count": 36,
   "metadata": {
    "collapsed": true
   },
   "outputs": [],
   "source": [
    "def parse_items(list_info,df):\n",
    "    for item in list_info:\n",
    "        print(item)\n",
    "        item_array=item.split('*')\n",
    "        item_iterator=iter(item_array)\n",
    "        item_dict={}\n",
    "        item_dict['DATE']=next(item_iterator)\n",
    "        item_dict['BLOCK TYPE']=next(item_iterator)\n",
    "        next_content=next(item_iterator) \n",
    "        item_dict['NUMBER']=int(next_content) if next_content.isdigit() else ''\n",
    "        item_dict['SUBURB']=next(item_iterator) if next_content.isdigit() else next_content \n",
    "        item_dict['BLOCK']=\n",
    "        item_dict['SECTION']=item_array[5]\n",
    "        item_dict['AREA']=item_array[6]\n",
    "        item_dict['MAX DRELLING']=item_array[7]\n",
    "        item_dict['PRICE']=item_array[8]\n",
    "        item_dict['PURCHASER']=item_array[9]\n",
    "        df=df.append(item_dict,ignore_index=True)\n",
    "        "
   ]
  },
  {
   "cell_type": "code",
   "execution_count": 37,
   "metadata": {
    "collapsed": false
   },
   "outputs": [],
   "source": [
    "def main():\n",
    "    path='canberra_land_sales_result.pdf'\n",
    "    pdfReader=init_pdf_from_file(path)\n",
    "    pattern=re.compile(r'(\\d{2}\\/\\d{2}\\/\\d{4}.+?)(?:(?=\\d{2}\\/\\d{2}\\/\\d{4})|$)')\n",
    "    info_list=extract_info_from_pages_into_list(pdfReader,pattern)\n",
    "    df=pd.DataFrame()\n",
    "    parse_items(info_list,df)\n",
    "    print(df)"
   ]
  },
  {
   "cell_type": "code",
   "execution_count": 38,
   "metadata": {
    "collapsed": false
   },
   "outputs": [
    {
     "name": "stdout",
     "output_type": "stream",
     "text": [
      "03/02/2017*Residential*3*Throsby*1 to 20*43*8,408*20*$7,899,900*Delta Design and Construction*\n",
      "03/02/2017*Residential*5*Throsby*2-4; 6-10; *12;15;17 & *19*44*4,667*13*$4,810,000*Roman Development Holdings*\n",
      "03/02/2017*Residential*6*Throsby*2 to 25*45*9,865*24*$9,393,600*Delta Design and Construction*\n",
      "03/02/2017*Residential*9*Throsby*3;6;7;9 & 11*35*2,025*5*$1,854,000*MSL Projects*\n",
      "03/02/2017*Residential*11*Throsby*1;3;4;5;6;7;2*4*33*2,954*7*$2,698,600*MSL Projects*\n",
      "03/02/2017*Residential*15*Throsby*1-14; 1-15; 1*4; 2; 3*18,101*45*$14,631,150*Wellington Property Group*\n",
      "22/12/2016*Industrial*Hume*9*21*22,671*$2,800,000*National Formwork Pty Ltd (ACN 119 745 461) atf *Hume Property Trust.*\n",
      "30/11/2016*Community*Charnwood*22*97*3,600*$2,145,000*Childcare Investments Aus Pty Ltd*\n"
     ]
    },
    {
     "ename": "IndexError",
     "evalue": "list index out of range",
     "output_type": "error",
     "traceback": [
      "\u001b[0;31m---------------------------------------------------------------------------\u001b[0m",
      "\u001b[0;31mIndexError\u001b[0m                                Traceback (most recent call last)",
      "\u001b[0;32m<ipython-input-38-2436fc2ab63a>\u001b[0m in \u001b[0;36m<module>\u001b[0;34m()\u001b[0m\n\u001b[1;32m      1\u001b[0m \u001b[0;32mif\u001b[0m \u001b[0m__name__\u001b[0m \u001b[0;34m==\u001b[0m \u001b[0;34m'__main__'\u001b[0m\u001b[0;34m:\u001b[0m\u001b[0;34m\u001b[0m\u001b[0m\n\u001b[0;32m----> 2\u001b[0;31m     \u001b[0mmain\u001b[0m\u001b[0;34m(\u001b[0m\u001b[0;34m)\u001b[0m\u001b[0;34m\u001b[0m\u001b[0m\n\u001b[0m",
      "\u001b[0;32m<ipython-input-37-c8c0739d9b81>\u001b[0m in \u001b[0;36mmain\u001b[0;34m()\u001b[0m\n\u001b[1;32m      5\u001b[0m     \u001b[0minfo_list\u001b[0m\u001b[0;34m=\u001b[0m\u001b[0mextract_info_from_pages_into_list\u001b[0m\u001b[0;34m(\u001b[0m\u001b[0mpdfReader\u001b[0m\u001b[0;34m,\u001b[0m\u001b[0mpattern\u001b[0m\u001b[0;34m)\u001b[0m\u001b[0;34m\u001b[0m\u001b[0m\n\u001b[1;32m      6\u001b[0m     \u001b[0mdf\u001b[0m\u001b[0;34m=\u001b[0m\u001b[0mpd\u001b[0m\u001b[0;34m.\u001b[0m\u001b[0mDataFrame\u001b[0m\u001b[0;34m(\u001b[0m\u001b[0;34m)\u001b[0m\u001b[0;34m\u001b[0m\u001b[0m\n\u001b[0;32m----> 7\u001b[0;31m     \u001b[0mparse_items\u001b[0m\u001b[0;34m(\u001b[0m\u001b[0minfo_list\u001b[0m\u001b[0;34m,\u001b[0m\u001b[0mdf\u001b[0m\u001b[0;34m)\u001b[0m\u001b[0;34m\u001b[0m\u001b[0m\n\u001b[0m\u001b[1;32m      8\u001b[0m     \u001b[0mprint\u001b[0m\u001b[0;34m(\u001b[0m\u001b[0mdf\u001b[0m\u001b[0;34m)\u001b[0m\u001b[0;34m\u001b[0m\u001b[0m\n",
      "\u001b[0;32m<ipython-input-36-ea815c2e7c3a>\u001b[0m in \u001b[0;36mparse_items\u001b[0;34m(list_info, df)\u001b[0m\n\u001b[1;32m     13\u001b[0m         \u001b[0mitem_dict\u001b[0m\u001b[0;34m[\u001b[0m\u001b[0;34m'MAX DRELLING'\u001b[0m\u001b[0;34m]\u001b[0m\u001b[0;34m=\u001b[0m\u001b[0mitem_array\u001b[0m\u001b[0;34m[\u001b[0m\u001b[0;36m7\u001b[0m\u001b[0;34m]\u001b[0m\u001b[0;34m\u001b[0m\u001b[0m\n\u001b[1;32m     14\u001b[0m         \u001b[0mitem_dict\u001b[0m\u001b[0;34m[\u001b[0m\u001b[0;34m'PRICE'\u001b[0m\u001b[0;34m]\u001b[0m\u001b[0;34m=\u001b[0m\u001b[0mitem_array\u001b[0m\u001b[0;34m[\u001b[0m\u001b[0;36m8\u001b[0m\u001b[0;34m]\u001b[0m\u001b[0;34m\u001b[0m\u001b[0m\n\u001b[0;32m---> 15\u001b[0;31m         \u001b[0mitem_dict\u001b[0m\u001b[0;34m[\u001b[0m\u001b[0;34m'PURCHASER'\u001b[0m\u001b[0;34m]\u001b[0m\u001b[0;34m=\u001b[0m\u001b[0mitem_array\u001b[0m\u001b[0;34m[\u001b[0m\u001b[0;36m9\u001b[0m\u001b[0;34m]\u001b[0m\u001b[0;34m\u001b[0m\u001b[0m\n\u001b[0m\u001b[1;32m     16\u001b[0m         \u001b[0mdf\u001b[0m\u001b[0;34m=\u001b[0m\u001b[0mdf\u001b[0m\u001b[0;34m.\u001b[0m\u001b[0mappend\u001b[0m\u001b[0;34m(\u001b[0m\u001b[0mitem_dict\u001b[0m\u001b[0;34m,\u001b[0m\u001b[0mignore_index\u001b[0m\u001b[0;34m=\u001b[0m\u001b[0;32mTrue\u001b[0m\u001b[0;34m)\u001b[0m\u001b[0;34m\u001b[0m\u001b[0m\n\u001b[1;32m     17\u001b[0m \u001b[0;34m\u001b[0m\u001b[0m\n",
      "\u001b[0;31mIndexError\u001b[0m: list index out of range"
     ]
    }
   ],
   "source": [
    "if __name__ == '__main__':\n",
    "    main()"
   ]
  }
 ],
 "metadata": {
  "anaconda-cloud": {},
  "kernelspec": {
   "display_name": "Python [default]",
   "language": "python",
   "name": "python3"
  },
  "language_info": {
   "codemirror_mode": {
    "name": "ipython",
    "version": 3
   },
   "file_extension": ".py",
   "mimetype": "text/x-python",
   "name": "python",
   "nbconvert_exporter": "python",
   "pygments_lexer": "ipython3",
   "version": "3.5.2"
  }
 },
 "nbformat": 4,
 "nbformat_minor": 1
}
