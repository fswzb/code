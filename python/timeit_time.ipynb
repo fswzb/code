{
 "cells": [
  {
   "cell_type": "code",
   "execution_count": 8,
   "metadata": {
    "collapsed": true
   },
   "outputs": [],
   "source": [
    "import time\n",
    "import timeit"
   ]
  },
  {
   "cell_type": "code",
   "execution_count": 9,
   "metadata": {
    "collapsed": false
   },
   "outputs": [
    {
     "name": "stdout",
     "output_type": "stream",
     "text": [
      "Help on class Timer in module timeit:\n",
      "\n",
      "class Timer(builtins.object)\n",
      " |  Class for timing execution speed of small code snippets.\n",
      " |  \n",
      " |  The constructor takes a statement to be timed, an additional\n",
      " |  statement used for setup, and a timer function.  Both statements\n",
      " |  default to 'pass'; the timer function is platform-dependent (see\n",
      " |  module doc string).  If 'globals' is specified, the code will be\n",
      " |  executed within that namespace (as opposed to inside timeit's\n",
      " |  namespace).\n",
      " |  \n",
      " |  To measure the execution time of the first statement, use the\n",
      " |  timeit() method.  The repeat() method is a convenience to call\n",
      " |  timeit() multiple times and return a list of results.\n",
      " |  \n",
      " |  The statements may contain newlines, as long as they don't contain\n",
      " |  multi-line string literals.\n",
      " |  \n",
      " |  Methods defined here:\n",
      " |  \n",
      " |  __init__(self, stmt='pass', setup='pass', timer=<built-in function perf_counter>, globals=None)\n",
      " |      Constructor.  See class doc string.\n",
      " |  \n",
      " |  print_exc(self, file=None)\n",
      " |      Helper to print a traceback from the timed code.\n",
      " |      \n",
      " |      Typical use:\n",
      " |      \n",
      " |          t = Timer(...)       # outside the try/except\n",
      " |          try:\n",
      " |              t.timeit(...)    # or t.repeat(...)\n",
      " |          except:\n",
      " |              t.print_exc()\n",
      " |      \n",
      " |      The advantage over the standard traceback is that source lines\n",
      " |      in the compiled template will be displayed.\n",
      " |      \n",
      " |      The optional file argument directs where the traceback is\n",
      " |      sent; it defaults to sys.stderr.\n",
      " |  \n",
      " |  repeat(self, repeat=3, number=1000000)\n",
      " |      Call timeit() a few times.\n",
      " |      \n",
      " |      This is a convenience function that calls the timeit()\n",
      " |      repeatedly, returning a list of results.  The first argument\n",
      " |      specifies how many times to call timeit(), defaulting to 3;\n",
      " |      the second argument specifies the timer argument, defaulting\n",
      " |      to one million.\n",
      " |      \n",
      " |      Note: it's tempting to calculate mean and standard deviation\n",
      " |      from the result vector and report these.  However, this is not\n",
      " |      very useful.  In a typical case, the lowest value gives a\n",
      " |      lower bound for how fast your machine can run the given code\n",
      " |      snippet; higher values in the result vector are typically not\n",
      " |      caused by variability in Python's speed, but by other\n",
      " |      processes interfering with your timing accuracy.  So the min()\n",
      " |      of the result is probably the only number you should be\n",
      " |      interested in.  After that, you should look at the entire\n",
      " |      vector and apply common sense rather than statistics.\n",
      " |  \n",
      " |  timeit(self, number=1000000)\n",
      " |      Time 'number' executions of the main statement.\n",
      " |      \n",
      " |      To be precise, this executes the setup statement once, and\n",
      " |      then returns the time it takes to execute the main statement\n",
      " |      a number of times, as a float measured in seconds.  The\n",
      " |      argument is the number of times through the loop, defaulting\n",
      " |      to one million.  The main statement, the setup statement and\n",
      " |      the timer function to be used are passed to the constructor.\n",
      " |  \n",
      " |  ----------------------------------------------------------------------\n",
      " |  Data descriptors defined here:\n",
      " |  \n",
      " |  __dict__\n",
      " |      dictionary for instance variables (if defined)\n",
      " |  \n",
      " |  __weakref__\n",
      " |      list of weak references to the object (if defined)\n",
      "\n"
     ]
    }
   ],
   "source": [
    "help(timeit.Timer)"
   ]
  },
  {
   "cell_type": "code",
   "execution_count": 10,
   "metadata": {
    "collapsed": false
   },
   "outputs": [
    {
     "name": "stdout",
     "output_type": "stream",
     "text": [
      "Help on function timeit in module timeit:\n",
      "\n",
      "timeit(stmt='pass', setup='pass', timer=<built-in function perf_counter>, number=1000000, globals=None)\n",
      "    Convenience function to create Timer object and call timeit method.\n",
      "\n"
     ]
    }
   ],
   "source": [
    "help(timeit.timeit)"
   ]
  },
  {
   "cell_type": "markdown",
   "metadata": {},
   "source": [
    "repeat(1,10000)重复一次，每次10000遍"
   ]
  },
  {
   "cell_type": "code",
   "execution_count": 11,
   "metadata": {
    "collapsed": false
   },
   "outputs": [
    {
     "name": "stdout",
     "output_type": "stream",
     "text": [
      "[2.1555415100001483]\n"
     ]
    }
   ],
   "source": [
    "setup_sum='sum=0'\n",
    "run_sum=\"\"\"\n",
    "for i in range(1,1000):\n",
    "    if i % 3 ==0:\n",
    "        sum = sum + i\n",
    "\"\"\"\n",
    "print(timeit.Timer(run_sum, setup=\"sum=0\").repeat(1,10000))"
   ]
  },
  {
   "cell_type": "markdown",
   "metadata": {},
   "source": [
    "这个就没有重复多少次，就一次，一次10000遍\n",
    "注意这里timeit.timeit的函数声明，第三个参数是timer，为了避过该参数，到了number这里，显式的声明该参数"
   ]
  },
  {
   "cell_type": "code",
   "execution_count": 12,
   "metadata": {
    "collapsed": false
   },
   "outputs": [],
   "source": [
    "t=timeit.timeit(run_sum,setup_sum,number=10000)"
   ]
  },
  {
   "cell_type": "code",
   "execution_count": 13,
   "metadata": {
    "collapsed": false
   },
   "outputs": [
    {
     "name": "stdout",
     "output_type": "stream",
     "text": [
      "Time for built-in sum(): 2.1465617119999933\n"
     ]
    }
   ],
   "source": [
    "print(\"Time for built-in sum(): {}\".format(t))"
   ]
  },
  {
   "cell_type": "code",
   "execution_count": 14,
   "metadata": {
    "collapsed": true
   },
   "outputs": [],
   "source": [
    "start=time.time()"
   ]
  },
  {
   "cell_type": "code",
   "execution_count": 15,
   "metadata": {
    "collapsed": true
   },
   "outputs": [],
   "source": [
    "sum=0\n",
    "for i in range(1,10000):\n",
    "    if i % 3==0:\n",
    "        sum+=i"
   ]
  },
  {
   "cell_type": "code",
   "execution_count": 16,
   "metadata": {
    "collapsed": true
   },
   "outputs": [],
   "source": [
    "end=time.time()"
   ]
  },
  {
   "cell_type": "code",
   "execution_count": 17,
   "metadata": {
    "collapsed": false
   },
   "outputs": [
    {
     "name": "stdout",
     "output_type": "stream",
     "text": [
      "Time for trading way to count the time is 0.166277\n"
     ]
    }
   ],
   "source": [
    "print(\"Time for trading way to count the time is %f\"%(end-start))"
   ]
  },
  {
   "cell_type": "code",
   "execution_count": null,
   "metadata": {
    "collapsed": true
   },
   "outputs": [],
   "source": []
  }
 ],
 "metadata": {
  "anaconda-cloud": {},
  "kernelspec": {
   "display_name": "Python [conda root]",
   "language": "python",
   "name": "conda-root-py"
  },
  "language_info": {
   "codemirror_mode": {
    "name": "ipython",
    "version": 3
   },
   "file_extension": ".py",
   "mimetype": "text/x-python",
   "name": "python",
   "nbconvert_exporter": "python",
   "pygments_lexer": "ipython3",
   "version": "3.5.2"
  }
 },
 "nbformat": 4,
 "nbformat_minor": 1
}
