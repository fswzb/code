{
 "cells": [
  {
   "cell_type": "code",
   "execution_count": 1,
   "metadata": {
    "collapsed": true
   },
   "outputs": [],
   "source": [
    "from pivottablejs import pivot_ui\n",
    "import pandas as pd"
   ]
  },
  {
   "cell_type": "code",
   "execution_count": 5,
   "metadata": {
    "collapsed": false
   },
   "outputs": [],
   "source": [
    "df=pd.read_csv('/home/jun/git/code/Cyclist_Crashes.csv')"
   ]
  },
  {
   "cell_type": "code",
   "execution_count": 6,
   "metadata": {
    "collapsed": false
   },
   "outputs": [
    {
     "data": {
      "text/html": [
       "<div>\n",
       "<table border=\"1\" class=\"dataframe\">\n",
       "  <thead>\n",
       "    <tr style=\"text-align: right;\">\n",
       "      <th></th>\n",
       "      <th>CRASH_ID</th>\n",
       "      <th>CRASH_DATE</th>\n",
       "      <th>CRASH_TIME</th>\n",
       "      <th>SEVERITY</th>\n",
       "      <th>CRASH_TYPE</th>\n",
       "      <th>CYCLISTS</th>\n",
       "      <th>CYCLIST_CASUALTIES</th>\n",
       "      <th>REPORTED_LOCATION</th>\n",
       "      <th>LATITUDE</th>\n",
       "      <th>LONGITUDE</th>\n",
       "      <th>LOCATION_1</th>\n",
       "    </tr>\n",
       "  </thead>\n",
       "  <tbody>\n",
       "    <tr>\n",
       "      <th>0</th>\n",
       "      <td>1034637</td>\n",
       "      <td>14 May 2012</td>\n",
       "      <td>12:37</td>\n",
       "      <td>Injury</td>\n",
       "      <td>Collision with parked vehicle</td>\n",
       "      <td>1</td>\n",
       "      <td>1</td>\n",
       "      <td>CAPITAL CIRCLE (COMMONWEALTH/COMMSPARLERM -&gt; C...</td>\n",
       "      <td>-35.304932</td>\n",
       "      <td>149.125419</td>\n",
       "      <td>(-35.304932, 149.125419)</td>\n",
       "    </tr>\n",
       "    <tr>\n",
       "      <th>1</th>\n",
       "      <td>1055714</td>\n",
       "      <td>20 February 2013</td>\n",
       "      <td>07:57</td>\n",
       "      <td>Injury</td>\n",
       "      <td>Right turn into oncoming vehicle</td>\n",
       "      <td>1</td>\n",
       "      <td>1</td>\n",
       "      <td>MORPHETT/NORTHBOURNE INTERSECTION</td>\n",
       "      <td>-35.253575</td>\n",
       "      <td>149.133358</td>\n",
       "      <td>(-35.253575, 149.133358)</td>\n",
       "    </tr>\n",
       "    <tr>\n",
       "      <th>2</th>\n",
       "      <td>1083381</td>\n",
       "      <td>17 March 2014</td>\n",
       "      <td>07:30</td>\n",
       "      <td>Injury</td>\n",
       "      <td>Same direction side swipe</td>\n",
       "      <td>1</td>\n",
       "      <td>1</td>\n",
       "      <td>BUNDA/NORTHBOURNE/RUDD INTERSECTION</td>\n",
       "      <td>-35.277135</td>\n",
       "      <td>149.129453</td>\n",
       "      <td>(-35.277135, 149.129453)</td>\n",
       "    </tr>\n",
       "    <tr>\n",
       "      <th>3</th>\n",
       "      <td>1025046</td>\n",
       "      <td>04 January 2012</td>\n",
       "      <td>08:50</td>\n",
       "      <td>Property Damage Only</td>\n",
       "      <td>Other - Vehicle to Vehicle</td>\n",
       "      <td>1</td>\n",
       "      <td>0</td>\n",
       "      <td>BARRY/COOYONG/NORTHBOURNE INTERSECTION</td>\n",
       "      <td>-35.275784</td>\n",
       "      <td>149.129771</td>\n",
       "      <td>(-35.275784, 149.129771)</td>\n",
       "    </tr>\n",
       "    <tr>\n",
       "      <th>4</th>\n",
       "      <td>1107433</td>\n",
       "      <td>07 April 2015</td>\n",
       "      <td>08:05</td>\n",
       "      <td>Property Damage Only</td>\n",
       "      <td>Other - Vehicle to Vehicle</td>\n",
       "      <td>1</td>\n",
       "      <td>0</td>\n",
       "      <td>NORTHBOURNE AVENUE (MORPHETT -&gt; MURDOCH)</td>\n",
       "      <td>-35.252917</td>\n",
       "      <td>149.133364</td>\n",
       "      <td>(-35.252917, 149.133364)</td>\n",
       "    </tr>\n",
       "  </tbody>\n",
       "</table>\n",
       "</div>"
      ],
      "text/plain": [
       "   CRASH_ID        CRASH_DATE CRASH_TIME              SEVERITY  \\\n",
       "0   1034637       14 May 2012      12:37                Injury   \n",
       "1   1055714  20 February 2013      07:57                Injury   \n",
       "2   1083381     17 March 2014      07:30                Injury   \n",
       "3   1025046   04 January 2012      08:50  Property Damage Only   \n",
       "4   1107433     07 April 2015      08:05  Property Damage Only   \n",
       "\n",
       "                         CRASH_TYPE  CYCLISTS  CYCLIST_CASUALTIES  \\\n",
       "0     Collision with parked vehicle         1                   1   \n",
       "1  Right turn into oncoming vehicle         1                   1   \n",
       "2         Same direction side swipe         1                   1   \n",
       "3        Other - Vehicle to Vehicle         1                   0   \n",
       "4        Other - Vehicle to Vehicle         1                   0   \n",
       "\n",
       "                                   REPORTED_LOCATION   LATITUDE   LONGITUDE  \\\n",
       "0  CAPITAL CIRCLE (COMMONWEALTH/COMMSPARLERM -> C... -35.304932  149.125419   \n",
       "1                  MORPHETT/NORTHBOURNE INTERSECTION -35.253575  149.133358   \n",
       "2                BUNDA/NORTHBOURNE/RUDD INTERSECTION -35.277135  149.129453   \n",
       "3             BARRY/COOYONG/NORTHBOURNE INTERSECTION -35.275784  149.129771   \n",
       "4           NORTHBOURNE AVENUE (MORPHETT -> MURDOCH) -35.252917  149.133364   \n",
       "\n",
       "                 LOCATION_1  \n",
       "0  (-35.304932, 149.125419)  \n",
       "1  (-35.253575, 149.133358)  \n",
       "2  (-35.277135, 149.129453)  \n",
       "3  (-35.275784, 149.129771)  \n",
       "4  (-35.252917, 149.133364)  "
      ]
     },
     "execution_count": 6,
     "metadata": {},
     "output_type": "execute_result"
    }
   ],
   "source": [
    "df.head()"
   ]
  },
  {
   "cell_type": "code",
   "execution_count": 7,
   "metadata": {
    "collapsed": false
   },
   "outputs": [
    {
     "data": {
      "text/html": [
       "\n",
       "        <iframe\n",
       "            width=\"100%\"\n",
       "            height=\"500\"\n",
       "            src=\"pivottablejs.html\"\n",
       "            frameborder=\"0\"\n",
       "            allowfullscreen\n",
       "        ></iframe>\n",
       "        "
      ],
      "text/plain": [
       "<IPython.lib.display.IFrame at 0x7f7da3d07f50>"
      ]
     },
     "execution_count": 7,
     "metadata": {},
     "output_type": "execute_result"
    }
   ],
   "source": [
    "pivot_ui(df)"
   ]
  },
  {
   "cell_type": "code",
   "execution_count": null,
   "metadata": {
    "collapsed": true
   },
   "outputs": [],
   "source": []
  }
 ],
 "metadata": {
  "kernelspec": {
   "display_name": "Python [default]",
   "language": "python",
   "name": "python2"
  },
  "language_info": {
   "codemirror_mode": {
    "name": "ipython",
    "version": 2
   },
   "file_extension": ".py",
   "mimetype": "text/x-python",
   "name": "python",
   "nbconvert_exporter": "python",
   "pygments_lexer": "ipython2",
   "version": "2.7.12"
  }
 },
 "nbformat": 4,
 "nbformat_minor": 1
}
