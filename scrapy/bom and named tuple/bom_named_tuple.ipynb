{
 "cells": [
  {
   "cell_type": "code",
   "execution_count": 1,
   "metadata": {
    "collapsed": false
   },
   "outputs": [
    {
     "name": "stderr",
     "output_type": "stream",
     "text": [
      "/home/jun_gentoo/anaconda2/lib/python2.7/site-packages/ipykernel/__main__.py:2: ScrapyDeprecationWarning: Module `scrapy.conf` is deprecated, use `crawler.settings` attribute instead\n",
      "  from ipykernel import kernelapp as app\n",
      "/home/jun_gentoo/anaconda2/lib/python2.7/site-packages/ipykernel/__main__.py:4: ScrapyDeprecationWarning: Importing from scrapy.xlib.pydispatch is deprecated and will no longer be supported in future Scrapy versions. If you just want to connect signals use the from_crawler class method, otherwise import pydispatch directly if needed. See: https://github.com/scrapy/scrapy/issues/1762\n"
     ]
    }
   ],
   "source": [
    "from scrapy import signals\n",
    "from scrapy.conf import settings\n",
    "from scrapy.crawler import CrawlerProcess\n",
    "from scrapy.xlib.pydispatch import dispatcher\n",
    "from multiprocessing.queues import Queue\n",
    "import scrapy\n",
    "import multiprocessing\n",
    "import datetime"
   ]
  },
  {
   "cell_type": "code",
   "execution_count": 2,
   "metadata": {
    "collapsed": true
   },
   "outputs": [],
   "source": [
    "class CrawlerWorker(multiprocessing.Process):\n",
    "\n",
    "    def __init__(self, spider, result_queue):\n",
    "        multiprocessing.Process.__init__(self)\n",
    "        self.result_queue = result_queue\n",
    "\n",
    "        self.crawler = CrawlerProcess(settings)\n",
    "        #if not hasattr(project, 'crawler'):\n",
    "        #    self.crawler.install()\n",
    "        #self.crawler.configure()\n",
    "\n",
    "        self.items = []\n",
    "        self.spider = spider\n",
    "        dispatcher.connect(self._item_passed, signals.item_passed)\n",
    "\n",
    "    def _item_passed(self, item):\n",
    "        self.items.append(item)\n",
    "\n",
    "    def run(self):\n",
    "        self.crawler.crawl(self.spider)\n",
    "        self.crawler.start()\n",
    "        self.crawler.stop()\n",
    "        self.result_queue.put(self.items)\n",
    "        "
   ]
  },
  {
   "cell_type": "code",
   "execution_count": 3,
   "metadata": {
    "collapsed": true
   },
   "outputs": [],
   "source": [
    "class CanberraWealtherSpider(scrapy.Spider):\n",
    "    name = \"CanberraWealtherSpider\"\n",
    "    allowed_domains = [\"www.bom.gov.au\"]\n",
    "    start_urls = ['http://www.bom.gov.au/act/forecasts/canberra.shtml']\n",
    "\n",
    "    def parse(self, response):\n",
    "        Max_Temperatures=response.xpath('//em[@class=\"max\"]/text()').extract()\n",
    "        for temperature in Max_Temperatures:\n",
    "            yield {\"Max_Temperature\":temperature.encode('utf-8')}\n",
    "            \n",
    "        Min_Temperatures=response.xpath('//em[@class=\"min\"]/text()').extract()\n",
    "        for temperature in Min_Temperatures:\n",
    "            yield {\"Min_Temperature\":temperature.encode('utf-8')}\n",
    "            \n",
    "        Summarys=response.xpath('//dd[@class=\"summary\"]/text()').extract()\n",
    "        for summary in Summarys:\n",
    "            yield {\"summary\":summary.encode('utf-8')}"
   ]
  },
  {
   "cell_type": "code",
   "execution_count": 4,
   "metadata": {
    "collapsed": true
   },
   "outputs": [],
   "source": [
    "def main():\n",
    "    result_queue = Queue()\n",
    "    crawler = CrawlerWorker(CanberraWealtherSpider(), result_queue)\n",
    "    crawler.start()\n",
    "    for item in result_queue.get():\n",
    "        print datetime.datetime.now(),item"
   ]
  },
  {
   "cell_type": "code",
   "execution_count": 5,
   "metadata": {
    "collapsed": false
   },
   "outputs": [
    {
     "name": "stderr",
     "output_type": "stream",
     "text": [
      "2017-01-12 19:42:04 [scrapy] INFO: Scrapy 1.1.1 started (bot: scrapybot)\n",
      "2017-01-12 19:42:04 [scrapy] INFO: Overridden settings: {}\n",
      "2017-01-12 19:42:04 [scrapy] INFO: Enabled extensions:\n",
      "['scrapy.extensions.logstats.LogStats',\n",
      " 'scrapy.extensions.telnet.TelnetConsole',\n",
      " 'scrapy.extensions.corestats.CoreStats']\n",
      "2017-01-12 19:42:04 [scrapy] INFO: Enabled downloader middlewares:\n",
      "['scrapy.downloadermiddlewares.httpauth.HttpAuthMiddleware',\n",
      " 'scrapy.downloadermiddlewares.downloadtimeout.DownloadTimeoutMiddleware',\n",
      " 'scrapy.downloadermiddlewares.useragent.UserAgentMiddleware',\n",
      " 'scrapy.downloadermiddlewares.retry.RetryMiddleware',\n",
      " 'scrapy.downloadermiddlewares.defaultheaders.DefaultHeadersMiddleware',\n",
      " 'scrapy.downloadermiddlewares.redirect.MetaRefreshMiddleware',\n",
      " 'scrapy.downloadermiddlewares.httpcompression.HttpCompressionMiddleware',\n",
      " 'scrapy.downloadermiddlewares.redirect.RedirectMiddleware',\n",
      " 'scrapy.downloadermiddlewares.cookies.CookiesMiddleware',\n",
      " 'scrapy.downloadermiddlewares.chunked.ChunkedTransferMiddleware',\n",
      " 'scrapy.downloadermiddlewares.stats.DownloaderStats']\n",
      "2017-01-12 19:42:04 [scrapy] INFO: Enabled spider middlewares:\n",
      "['scrapy.spidermiddlewares.httperror.HttpErrorMiddleware',\n",
      " 'scrapy.spidermiddlewares.offsite.OffsiteMiddleware',\n",
      " 'scrapy.spidermiddlewares.referer.RefererMiddleware',\n",
      " 'scrapy.spidermiddlewares.urllength.UrlLengthMiddleware',\n",
      " 'scrapy.spidermiddlewares.depth.DepthMiddleware']\n",
      "2017-01-12 19:42:04 [scrapy] INFO: Enabled item pipelines:\n",
      "[]\n",
      "2017-01-12 19:42:04 [scrapy] INFO: Spider opened\n",
      "2017-01-12 19:42:04 [scrapy] INFO: Crawled 0 pages (at 0 pages/min), scraped 0 items (at 0 items/min)\n",
      "2017-01-12 19:42:04 [scrapy] DEBUG: Telnet console listening on 127.0.0.1:6023\n",
      "2017-01-12 19:42:11 [scrapy] DEBUG: Retrying <GET http://www.bom.gov.au/act/forecasts/canberra.shtml> (failed 1 times): DNS lookup failed: address 'www.bom.gov.au' not found: [Errno -2] Name or service not known.\n",
      "2017-01-12 19:42:12 [scrapy] DEBUG: Crawled (200) <GET http://www.bom.gov.au/act/forecasts/canberra.shtml> (referer: None)\n",
      "2017-01-12 19:42:12 [scrapy] DEBUG: Scraped from <200 http://www.bom.gov.au/act/forecasts/canberra.shtml>\n",
      "{'Max_Temperature': '37'}\n",
      "2017-01-12 19:42:12 [scrapy] DEBUG: Scraped from <200 http://www.bom.gov.au/act/forecasts/canberra.shtml>\n",
      "{'Max_Temperature': '31'}\n",
      "2017-01-12 19:42:12 [scrapy] DEBUG: Scraped from <200 http://www.bom.gov.au/act/forecasts/canberra.shtml>\n",
      "{'Max_Temperature': '29'}\n",
      "2017-01-12 19:42:12 [scrapy] DEBUG: Scraped from <200 http://www.bom.gov.au/act/forecasts/canberra.shtml>\n",
      "{'Max_Temperature': '33'}\n",
      "2017-01-12 19:42:12 [scrapy] DEBUG: Scraped from <200 http://www.bom.gov.au/act/forecasts/canberra.shtml>\n",
      "{'Max_Temperature': '36'}\n",
      "2017-01-12 19:42:12 [scrapy] DEBUG: Scraped from <200 http://www.bom.gov.au/act/forecasts/canberra.shtml>\n",
      "{'Max_Temperature': '34'}\n",
      "2017-01-12 19:42:12 [scrapy] DEBUG: Scraped from <200 http://www.bom.gov.au/act/forecasts/canberra.shtml>\n",
      "{'Max_Temperature': '31'}\n",
      "2017-01-12 19:42:12 [scrapy] DEBUG: Scraped from <200 http://www.bom.gov.au/act/forecasts/canberra.shtml>\n",
      "{'Min_Temperature': '17'}\n",
      "2017-01-12 19:42:12 [scrapy] DEBUG: Scraped from <200 http://www.bom.gov.au/act/forecasts/canberra.shtml>\n",
      "{'Min_Temperature': '19'}\n",
      "2017-01-12 19:42:12 [scrapy] DEBUG: Scraped from <200 http://www.bom.gov.au/act/forecasts/canberra.shtml>\n",
      "{'Min_Temperature': '15'}\n",
      "2017-01-12 19:42:12 [scrapy] DEBUG: Scraped from <200 http://www.bom.gov.au/act/forecasts/canberra.shtml>\n",
      "{'Min_Temperature': '14'}\n",
      "2017-01-12 19:42:12 [scrapy] DEBUG: Scraped from <200 http://www.bom.gov.au/act/forecasts/canberra.shtml>\n",
      "{'Min_Temperature': '16'}\n",
      "2017-01-12 19:42:12 [scrapy] DEBUG: Scraped from <200 http://www.bom.gov.au/act/forecasts/canberra.shtml>\n",
      "{'Min_Temperature': '22'}\n",
      "2017-01-12 19:42:12 [scrapy] DEBUG: Scraped from <200 http://www.bom.gov.au/act/forecasts/canberra.shtml>\n",
      "{'Min_Temperature': '16'}\n",
      "2017-01-12 19:42:12 [scrapy] DEBUG: Scraped from <200 http://www.bom.gov.au/act/forecasts/canberra.shtml>\n",
      "{'summary': 'Partly cloudy.'}\n",
      "2017-01-12 19:42:12 [scrapy] DEBUG: Scraped from <200 http://www.bom.gov.au/act/forecasts/canberra.shtml>\n",
      "{'summary': 'A little late rain.'}\n",
      "2017-01-12 19:42:12 [scrapy] DEBUG: Scraped from <200 http://www.bom.gov.au/act/forecasts/canberra.shtml>\n",
      "{'summary': 'Shower or two.'}\n",
      "2017-01-12 19:42:12 [scrapy] DEBUG: Scraped from <200 http://www.bom.gov.au/act/forecasts/canberra.shtml>\n",
      "{'summary': 'Partly cloudy.'}\n",
      "2017-01-12 19:42:12 [scrapy] DEBUG: Scraped from <200 http://www.bom.gov.au/act/forecasts/canberra.shtml>\n",
      "{'summary': 'Mostly sunny.'}\n",
      "2017-01-12 19:42:12 [scrapy] DEBUG: Scraped from <200 http://www.bom.gov.au/act/forecasts/canberra.shtml>\n",
      "{'summary': 'Sunny.'}\n",
      "2017-01-12 19:42:12 [scrapy] DEBUG: Scraped from <200 http://www.bom.gov.au/act/forecasts/canberra.shtml>\n",
      "{'summary': 'Showers.'}\n",
      "2017-01-12 19:42:12 [scrapy] DEBUG: Scraped from <200 http://www.bom.gov.au/act/forecasts/canberra.shtml>\n",
      "{'summary': 'Shower or two.'}\n",
      "2017-01-12 19:42:12 [scrapy] INFO: Closing spider (finished)\n",
      "2017-01-12 19:42:12 [scrapy] INFO: Dumping Scrapy stats:\n",
      "{'downloader/exception_count': 1,\n",
      " 'downloader/exception_type_count/twisted.internet.error.DNSLookupError': 1,\n",
      " 'downloader/request_bytes': 480,\n",
      " 'downloader/request_count': 2,\n",
      " 'downloader/request_method_count/GET': 2,\n",
      " 'downloader/response_bytes': 6213,\n",
      " 'downloader/response_count': 1,\n",
      " 'downloader/response_status_count/200': 1,\n",
      " 'finish_reason': 'finished',\n",
      " 'finish_time': datetime.datetime(2017, 1, 12, 8, 42, 12, 522661),\n",
      " 'item_scraped_count': 22,\n",
      " 'log_count/DEBUG': 25,\n",
      " 'log_count/INFO': 7,\n",
      " 'response_received_count': 1,\n",
      " 'scheduler/dequeued': 2,\n",
      " 'scheduler/dequeued/memory': 2,\n",
      " 'scheduler/enqueued': 2,\n",
      " 'scheduler/enqueued/memory': 2,\n",
      " 'start_time': datetime.datetime(2017, 1, 12, 8, 42, 4, 465194)}\n",
      "2017-01-12 19:42:12 [scrapy] INFO: Spider closed (finished)\n"
     ]
    },
    {
     "name": "stdout",
     "output_type": "stream",
     "text": [
      "2017-01-12 19:42:12.532775 {'Max_Temperature': '37'}\n",
      "2017-01-12 19:42:12.533253 {'Max_Temperature': '31'}\n",
      "2017-01-12 19:42:12.533380 {'Max_Temperature': '29'}\n",
      "2017-01-12 19:42:12.533488 {'Max_Temperature': '33'}\n",
      "2017-01-12 19:42:12.533909 {'Max_Temperature': '36'}\n",
      "2017-01-12 19:42:12.534026 {'Max_Temperature': '34'}\n",
      "2017-01-12 19:42:12.534102 {'Max_Temperature': '31'}\n",
      "2017-01-12 19:42:12.534223 {'Min_Temperature': '17'}\n",
      "2017-01-12 19:42:12.534314 {'Min_Temperature': '19'}\n",
      "2017-01-12 19:42:12.534405 {'Min_Temperature': '15'}\n",
      "2017-01-12 19:42:12.534499 {'Min_Temperature': '14'}\n",
      "2017-01-12 19:42:12.534588 {'Min_Temperature': '16'}\n",
      "2017-01-12 19:42:12.534695 {'Min_Temperature': '22'}\n",
      "2017-01-12 19:42:12.534783 {'Min_Temperature': '16'}\n",
      "2017-01-12 19:42:12.534870 {'summary': 'Partly cloudy.'}\n",
      "2017-01-12 19:42:12.534960 {'summary': 'A little late rain.'}\n",
      "2017-01-12 19:42:12.535048 {'summary': 'Shower or two.'}\n",
      "2017-01-12 19:42:12.535127 {'summary': 'Partly cloudy.'}\n",
      "2017-01-12 19:42:12.535224 {'summary': 'Mostly sunny.'}\n",
      "2017-01-12 19:42:12.535304 {'summary': 'Sunny.'}\n",
      "2017-01-12 19:42:12.535387 {'summary': 'Showers.'}\n",
      "2017-01-12 19:42:12.535482 {'summary': 'Shower or two.'}\n"
     ]
    }
   ],
   "source": [
    "if __name__==\"__main__\":\n",
    "    main()"
   ]
  },
  {
   "cell_type": "code",
   "execution_count": null,
   "metadata": {
    "collapsed": true
   },
   "outputs": [],
   "source": []
  }
 ],
 "metadata": {
  "anaconda-cloud": {},
  "kernelspec": {
   "display_name": "Python [default]",
   "language": "python",
   "name": "python2"
  },
  "language_info": {
   "codemirror_mode": {
    "name": "ipython",
    "version": 2
   },
   "file_extension": ".py",
   "mimetype": "text/x-python",
   "name": "python",
   "nbconvert_exporter": "python",
   "pygments_lexer": "ipython2",
   "version": "2.7.12"
  }
 },
 "nbformat": 4,
 "nbformat_minor": 1
}
