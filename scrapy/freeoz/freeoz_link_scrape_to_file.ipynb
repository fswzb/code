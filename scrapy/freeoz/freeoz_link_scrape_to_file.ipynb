{
 "cells": [
  {
   "cell_type": "code",
   "execution_count": 33,
   "metadata": {
    "collapsed": false
   },
   "outputs": [],
   "source": [
    "from scrapy import signals\n",
    "from scrapy.utils.project import get_project_settings\n",
    "from scrapy.crawler import CrawlerProcess\n",
    "from scrapy.xlib.pydispatch import dispatcher\n",
    "from multiprocessing.queues import Queue\n",
    "import scrapy\n",
    "import multiprocessing\n",
    "import urllib\n",
    "from scrapy import Request as Request"
   ]
  },
  {
   "cell_type": "code",
   "execution_count": 34,
   "metadata": {
    "collapsed": true
   },
   "outputs": [],
   "source": [
    "class CrawlerWorker(multiprocessing.Process):\n",
    "\n",
    "    def __init__(self, spider, result_queue):\n",
    "        multiprocessing.Process.__init__(self)\n",
    "        self.result_queue = result_queue\n",
    "\n",
    "        self.crawler = CrawlerProcess(get_project_settings())\n",
    "        #if not hasattr(project, 'crawler'):\n",
    "        #    self.crawler.install()\n",
    "        #self.crawler.configure()\n",
    "\n",
    "        self.items = []\n",
    "        self.spider = spider\n",
    "        dispatcher.connect(self._item_passed, signals.item_passed)\n",
    "        \n",
    "\n",
    "    def _item_passed(self, item):\n",
    "        self.items.append(item)\n",
    "\n",
    "    def run(self):\n",
    "        self.crawler.crawl(self.spider)\n",
    "        self.crawler.start()\n",
    "        self.crawler.stop()\n",
    "        self.result_queue.put(self.items)"
   ]
  },
  {
   "cell_type": "code",
   "execution_count": 35,
   "metadata": {
    "collapsed": false
   },
   "outputs": [],
   "source": [
    "class FreeozLinkSpider(scrapy.Spider):\n",
    "    name = \"FreeozLinkSpider\"\n",
    "    allowed_domains = [\"www.freeoz.org\"]\n",
    "    start_urls = ['http://www.freeoz.org/ibbs/forum-7068-460.html']\n",
    "    \n",
    "    #this is how to initialize own's spider\n",
    "    def __init__(self, *a, **kw):\n",
    "        super(FreeozLinkSpider, self).__init__(*a, **kw)\n",
    "        #link the spider cleaning signal with function\n",
    "        dispatcher.connect(self.spider_closed, signals.spider_closed)\n",
    "        \n",
    "        #open('xxx.txt','a',0) open a file with unbuffered option which means text can be \n",
    "        #constantly written to file\n",
    "        self.syd_file=open('sydney.link','a',0)\n",
    "        self.mel_file=open('melbourne.link','a',0)\n",
    "        self.act_file=open('canberra.link','a',0)\n",
    "        self.per_file=open('perth.link','a',0)\n",
    "        self.ade_file=open('adelaide.link','a',0)\n",
    "        self.bne_file=open('brisbane.link','a',0)\n",
    "        \n",
    "    def spider_closed(self):\n",
    "        self.syd_file.close()\n",
    "        self.mel_file.close()\n",
    "        self.bne_file.close()\n",
    "        self.ade_file.close()\n",
    "        self.per_file.close()\n",
    "        self.act_file.close()\n",
    "        \n",
    "    def write_link_to_files(self,location,full_link):\n",
    "        if location.encode('utf-8') == '悉尼':\n",
    "            self.syd_file.write(full_link+'\\n')\n",
    "            return\n",
    "        if location.encode('utf-8') == '墨尔本':\n",
    "            self.mel_file.write(full_link+'\\n')\n",
    "            return\n",
    "        if location.encode('utf-8') == '布里斯班':\n",
    "            self.bne_file.write(full_link+'\\n')\n",
    "            return\n",
    "        if location.encode('utf-8') == '阿德莱德':\n",
    "            self.ade_file.write(full_link+'\\n')\n",
    "            return\n",
    "        if location.encode('utf-8') == '佩斯':\n",
    "            self.per_file.write(full_link+'\\n')\n",
    "            return\n",
    "        if location.encode('utf-8') == '堪培拉':\n",
    "            self.act_file.write(full_link+'\\n')\n",
    "            return\n",
    "    \n",
    "\n",
    "    def parse(self, response):\n",
    "        next_page_tag=response.xpath('//a[@href and @class=\"nxt\"]/@href')\n",
    "        if next_page_tag != []:\n",
    "            next_page_link=str(urllib.basejoin(response.url,next_page_tag.extract()[0]))\n",
    "            yield Request(next_page_link,callback=self.parse)\n",
    "        th_tags=response.xpath('//th[@class=\"new\" or @class=\"lock\"]')\n",
    "        for th_tag in th_tags:\n",
    "            location=th_tag.xpath('em/a/text()').extract()[0]\n",
    "            link=th_tag.xpath('a[@onclick=\"atarget(this)\"]/@href').extract()[0]\n",
    "            full_link=urllib.basejoin(response.url,link)\n",
    "            self.write_link_to_files(location,full_link)\n",
    "            "
   ]
  },
  {
   "cell_type": "code",
   "execution_count": 39,
   "metadata": {
    "collapsed": true
   },
   "outputs": [],
   "source": [
    "def main():\n",
    "    result_queue = Queue()\n",
    "    crawler = CrawlerWorker(FreeozLinkSpider(), result_queue)\n",
    "    crawler.start()\n",
    "    #in the spider output has already been written to local file\n",
    "    #for item in result_queue.get():\n",
    "        #print item\n",
    "    \n",
    "        "
   ]
  },
  {
   "cell_type": "code",
   "execution_count": null,
   "metadata": {
    "collapsed": true
   },
   "outputs": [],
   "source": [
    "if __name__ == '__main__':\n",
    "    main()"
   ]
  },
  {
   "cell_type": "code",
   "execution_count": null,
   "metadata": {
    "collapsed": true
   },
   "outputs": [],
   "source": [
    "#when all the links are written to local file.In the shell, can run\n",
    "# time cat canberra.link | parallel wget -P ./canberra {}\n",
    "#fast download and roughly 200 files/minute"
   ]
  }
 ],
 "metadata": {
  "anaconda-cloud": {},
  "kernelspec": {
   "display_name": "Python [default]",
   "language": "python",
   "name": "python2"
  },
  "language_info": {
   "codemirror_mode": {
    "name": "ipython",
    "version": 2
   },
   "file_extension": ".py",
   "mimetype": "text/x-python",
   "name": "python",
   "nbconvert_exporter": "python",
   "pygments_lexer": "ipython2",
   "version": "2.7.12"
  }
 },
 "nbformat": 4,
 "nbformat_minor": 1
}
