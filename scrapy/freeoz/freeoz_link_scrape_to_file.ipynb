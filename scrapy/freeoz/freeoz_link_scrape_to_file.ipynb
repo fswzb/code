{
 "cells": [
  {
   "cell_type": "code",
   "execution_count": 7,
   "metadata": {
    "collapsed": false
   },
   "outputs": [],
   "source": [
    "from scrapy import signals\n",
    "from scrapy.utils.project import get_project_settings\n",
    "from scrapy.crawler import CrawlerProcess\n",
    "from scrapy.xlib.pydispatch import dispatcher\n",
    "from multiprocessing.queues import Queue\n",
    "import scrapy\n",
    "import multiprocessing"
   ]
  },
  {
   "cell_type": "code",
   "execution_count": 8,
   "metadata": {
    "collapsed": true
   },
   "outputs": [],
   "source": [
    "class CrawlerWorker(multiprocessing.Process):\n",
    "\n",
    "    def __init__(self, spider, result_queue):\n",
    "        multiprocessing.Process.__init__(self)\n",
    "        self.result_queue = result_queue\n",
    "\n",
    "        self.crawler = CrawlerProcess(get_project_settings())\n",
    "        #if not hasattr(project, 'crawler'):\n",
    "        #    self.crawler.install()\n",
    "        #self.crawler.configure()\n",
    "\n",
    "        self.items = []\n",
    "        self.spider = spider\n",
    "        dispatcher.connect(self._item_passed, signals.item_passed)\n",
    "\n",
    "    def _item_passed(self, item):\n",
    "        self.items.append(item)\n",
    "\n",
    "    def run(self):\n",
    "        self.crawler.crawl(self.spider)\n",
    "        self.crawler.start()\n",
    "        self.crawler.stop()\n",
    "        self.result_queue.put(self.items)"
   ]
  },
  {
   "cell_type": "code",
   "execution_count": 9,
   "metadata": {
    "collapsed": true
   },
   "outputs": [],
   "source": [
    "class FreeozLinkSpider(scrapy.Spider):\n",
    "    name = \"FreeozLinkSpider\"\n",
    "    allowed_domains = [\"www.freeoz.org\"]\n",
    "    start_urls = ['http://www.freeoz.org/ibbs/forum-7068-3.html']\n",
    "\n",
    "    def parse(self, response):\n",
    "        th_tags=response.xpath('//th[@class=\"common\"]')\n",
    "        for th_tag in th_tags:\n",
    "            location=th_tag.xpath('em/text()').extract()[0]\n",
    "            link=th_tag.xpath('a[contains(@href,\"www.freeoz.org\") and @onclick=\"atarget(this)\"]/@href').extract()[0]\n",
    "            print(\"%s:%s\"%(location,link))"
   ]
  },
  {
   "cell_type": "code",
   "execution_count": 10,
   "metadata": {
    "collapsed": true
   },
   "outputs": [],
   "source": [
    "def main():\n",
    "    result_queue = Queue()\n",
    "    crawler = CrawlerWorker(FreeozLinkSpider(), result_queue)\n",
    "    crawler.start()\n",
    "    for item in result_queue.get():\n",
    "        #print datetime.datetime.now(),item\n",
    "        print item"
   ]
  },
  {
   "cell_type": "code",
   "execution_count": 11,
   "metadata": {
    "collapsed": false
   },
   "outputs": [
    {
     "name": "stderr",
     "output_type": "stream",
     "text": [
      "2017-01-23 12:57:06 [scrapy] INFO: Scrapy 1.1.1 started (bot: scrapybot)\n",
      "2017-01-23 12:57:06 [scrapy] INFO: Scrapy 1.1.1 started (bot: scrapybot)\n",
      "2017-01-23 12:57:06 [scrapy] INFO: Overridden settings: {}\n",
      "2017-01-23 12:57:06 [scrapy] INFO: Overridden settings: {}\n",
      "2017-01-23 12:57:06 [scrapy] INFO: Enabled extensions:\n",
      "['scrapy.extensions.logstats.LogStats',\n",
      " 'scrapy.extensions.telnet.TelnetConsole',\n",
      " 'scrapy.extensions.corestats.CoreStats']\n",
      "2017-01-23 12:57:06 [scrapy] INFO: Enabled extensions:\n",
      "['scrapy.extensions.logstats.LogStats',\n",
      " 'scrapy.extensions.telnet.TelnetConsole',\n",
      " 'scrapy.extensions.corestats.CoreStats']\n",
      "2017-01-23 12:57:06 [scrapy] INFO: Enabled downloader middlewares:\n",
      "['scrapy.downloadermiddlewares.httpauth.HttpAuthMiddleware',\n",
      " 'scrapy.downloadermiddlewares.downloadtimeout.DownloadTimeoutMiddleware',\n",
      " 'scrapy.downloadermiddlewares.useragent.UserAgentMiddleware',\n",
      " 'scrapy.downloadermiddlewares.retry.RetryMiddleware',\n",
      " 'scrapy.downloadermiddlewares.defaultheaders.DefaultHeadersMiddleware',\n",
      " 'scrapy.downloadermiddlewares.redirect.MetaRefreshMiddleware',\n",
      " 'scrapy.downloadermiddlewares.httpcompression.HttpCompressionMiddleware',\n",
      " 'scrapy.downloadermiddlewares.redirect.RedirectMiddleware',\n",
      " 'scrapy.downloadermiddlewares.cookies.CookiesMiddleware',\n",
      " 'scrapy.downloadermiddlewares.chunked.ChunkedTransferMiddleware',\n",
      " 'scrapy.downloadermiddlewares.stats.DownloaderStats']\n",
      "2017-01-23 12:57:06 [scrapy] INFO: Enabled downloader middlewares:\n",
      "['scrapy.downloadermiddlewares.httpauth.HttpAuthMiddleware',\n",
      " 'scrapy.downloadermiddlewares.downloadtimeout.DownloadTimeoutMiddleware',\n",
      " 'scrapy.downloadermiddlewares.useragent.UserAgentMiddleware',\n",
      " 'scrapy.downloadermiddlewares.retry.RetryMiddleware',\n",
      " 'scrapy.downloadermiddlewares.defaultheaders.DefaultHeadersMiddleware',\n",
      " 'scrapy.downloadermiddlewares.redirect.MetaRefreshMiddleware',\n",
      " 'scrapy.downloadermiddlewares.httpcompression.HttpCompressionMiddleware',\n",
      " 'scrapy.downloadermiddlewares.redirect.RedirectMiddleware',\n",
      " 'scrapy.downloadermiddlewares.cookies.CookiesMiddleware',\n",
      " 'scrapy.downloadermiddlewares.chunked.ChunkedTransferMiddleware',\n",
      " 'scrapy.downloadermiddlewares.stats.DownloaderStats']\n",
      "2017-01-23 12:57:06 [scrapy] INFO: Enabled spider middlewares:\n",
      "['scrapy.spidermiddlewares.httperror.HttpErrorMiddleware',\n",
      " 'scrapy.spidermiddlewares.offsite.OffsiteMiddleware',\n",
      " 'scrapy.spidermiddlewares.referer.RefererMiddleware',\n",
      " 'scrapy.spidermiddlewares.urllength.UrlLengthMiddleware',\n",
      " 'scrapy.spidermiddlewares.depth.DepthMiddleware']\n",
      "2017-01-23 12:57:06 [scrapy] INFO: Enabled spider middlewares:\n",
      "['scrapy.spidermiddlewares.httperror.HttpErrorMiddleware',\n",
      " 'scrapy.spidermiddlewares.offsite.OffsiteMiddleware',\n",
      " 'scrapy.spidermiddlewares.referer.RefererMiddleware',\n",
      " 'scrapy.spidermiddlewares.urllength.UrlLengthMiddleware',\n",
      " 'scrapy.spidermiddlewares.depth.DepthMiddleware']\n",
      "2017-01-23 12:57:06 [scrapy] INFO: Enabled item pipelines:\n",
      "[]\n",
      "2017-01-23 12:57:06 [scrapy] INFO: Enabled item pipelines:\n",
      "[]\n",
      "2017-01-23 12:57:06 [scrapy] INFO: Spider opened\n",
      "2017-01-23 12:57:06 [scrapy] INFO: Spider opened\n",
      "2017-01-23 12:57:06 [scrapy] INFO: Crawled 0 pages (at 0 pages/min), scraped 0 items (at 0 items/min)\n",
      "2017-01-23 12:57:06 [scrapy] INFO: Crawled 0 pages (at 0 pages/min), scraped 0 items (at 0 items/min)\n",
      "2017-01-23 12:57:06 [scrapy] DEBUG: Telnet console listening on 127.0.0.1:6023\n",
      "2017-01-23 12:57:06 [scrapy] DEBUG: Telnet console listening on 127.0.0.1:6023\n",
      "2017-01-23 12:57:06 [scrapy] DEBUG: Crawled (200) <GET http://www.freeoz.org/ibbs/forum-7068-3.html> (referer: None)\n",
      "2017-01-23 12:57:06 [scrapy] DEBUG: Crawled (200) <GET http://www.freeoz.org/ibbs/forum-7068-3.html> (referer: None)\n",
      "2017-01-23 12:57:06 [scrapy] INFO: Closing spider (finished)\n",
      "2017-01-23 12:57:06 [scrapy] INFO: Closing spider (finished)\n",
      "2017-01-23 12:57:06 [scrapy] INFO: Dumping Scrapy stats:\n",
      "{'downloader/request_bytes': 234,\n",
      " 'downloader/request_count': 1,\n",
      " 'downloader/request_method_count/GET': 1,\n",
      " 'downloader/response_bytes': 19345,\n",
      " 'downloader/response_count': 1,\n",
      " 'downloader/response_status_count/200': 1,\n",
      " 'finish_reason': 'finished',\n",
      " 'finish_time': datetime.datetime(2017, 1, 23, 1, 57, 6, 931557),\n",
      " 'log_count/DEBUG': 2,\n",
      " 'log_count/INFO': 7,\n",
      " 'response_received_count': 1,\n",
      " 'scheduler/dequeued': 1,\n",
      " 'scheduler/dequeued/memory': 1,\n",
      " 'scheduler/enqueued': 1,\n",
      " 'scheduler/enqueued/memory': 1,\n",
      " 'start_time': datetime.datetime(2017, 1, 23, 1, 57, 6, 229659)}\n",
      "2017-01-23 12:57:06 [scrapy] INFO: Dumping Scrapy stats:\n",
      "{'downloader/request_bytes': 234,\n",
      " 'downloader/request_count': 1,\n",
      " 'downloader/request_method_count/GET': 1,\n",
      " 'downloader/response_bytes': 19345,\n",
      " 'downloader/response_count': 1,\n",
      " 'downloader/response_status_count/200': 1,\n",
      " 'finish_reason': 'finished',\n",
      " 'finish_time': datetime.datetime(2017, 1, 23, 1, 57, 6, 931557),\n",
      " 'log_count/DEBUG': 2,\n",
      " 'log_count/INFO': 7,\n",
      " 'response_received_count': 1,\n",
      " 'scheduler/dequeued': 1,\n",
      " 'scheduler/dequeued/memory': 1,\n",
      " 'scheduler/enqueued': 1,\n",
      " 'scheduler/enqueued/memory': 1,\n",
      " 'start_time': datetime.datetime(2017, 1, 23, 1, 57, 6, 229659)}\n",
      "2017-01-23 12:57:06 [scrapy] INFO: Spider closed (finished)\n",
      "2017-01-23 12:57:06 [scrapy] INFO: Spider closed (finished)\n"
     ]
    }
   ],
   "source": [
    "if __name__ == '__main__':\n",
    "    main()"
   ]
  },
  {
   "cell_type": "code",
   "execution_count": null,
   "metadata": {
    "collapsed": true
   },
   "outputs": [],
   "source": []
  }
 ],
 "metadata": {
  "anaconda-cloud": {},
  "kernelspec": {
   "display_name": "Python [default]",
   "language": "python",
   "name": "python2"
  },
  "language_info": {
   "codemirror_mode": {
    "name": "ipython",
    "version": 2
   },
   "file_extension": ".py",
   "mimetype": "text/x-python",
   "name": "python",
   "nbconvert_exporter": "python",
   "pygments_lexer": "ipython2",
   "version": "2.7.12"
  }
 },
 "nbformat": 4,
 "nbformat_minor": 1
}
