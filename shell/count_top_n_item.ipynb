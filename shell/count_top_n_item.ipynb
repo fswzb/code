{
 "cells": [
  {
   "cell_type": "code",
   "execution_count": 1,
   "metadata": {
    "collapsed": true
   },
   "outputs": [],
   "source": [
    "#!/usr/bin/env bash"
   ]
  },
  {
   "cell_type": "code",
   "execution_count": 16,
   "metadata": {
    "collapsed": true
   },
   "outputs": [],
   "source": [
    "NUMCOUNT=$1\n",
    "#copy first parameter to NUMCOUNT"
   ]
  },
  {
   "cell_type": "code",
   "execution_count": 17,
   "metadata": {
    "collapsed": false
   },
   "outputs": [
    {
     "name": "stdout",
     "output_type": "stream",
     "text": [
      "A S D F G\n"
     ]
    }
   ],
   "source": [
    "echo \"A S D F G\" | tr '[:lower:]' '[:upper:]'\n",
    "#[:lower:] all lower character\n",
    "#[:upper:] all upper case\n",
    "#tr: translate [:lower:] into [:upper:]"
   ]
  },
  {
   "cell_type": "code",
   "execution_count": 10,
   "metadata": {
    "collapsed": false
   },
   "outputs": [
    {
     "name": "stdout",
     "output_type": "stream",
     "text": [
      "\u001b[01;31m\u001b[Ka\u001b[m\u001b[K\n",
      "\u001b[01;31m\u001b[Kb\u001b[m\u001b[K\n",
      "\u001b[01;31m\u001b[Kc\u001b[m\u001b[K\n",
      "\u001b[01;31m\u001b[Kd\u001b[m\u001b[K\n",
      "\u001b[01;31m\u001b[Kd\u001b[m\u001b[K\n",
      "\u001b[01;31m\u001b[Kd\u001b[m\u001b[K\n",
      "\u001b[01;31m\u001b[Ksdf\u001b[m\u001b[K\n",
      "\u001b[01;31m\u001b[Kdsf\u001b[m\u001b[K\n"
     ]
    }
   ],
   "source": [
    "echo \"a b c d d d sdf dsf \" | grep -oE '\\w+'\n",
    "#grep -o: show only matched item\n",
    "#grep -E:egrep"
   ]
  },
  {
   "cell_type": "code",
   "execution_count": 11,
   "metadata": {
    "collapsed": false
   },
   "outputs": [
    {
     "name": "stdout",
     "output_type": "stream",
     "text": [
      "      1 a\n",
      "      1 b\n",
      "      1 c\n",
      "      3 d\n",
      "      1 sdf\n",
      "      1 dsf\n"
     ]
    }
   ],
   "source": [
    "echo \"a b c d d d sdf dsf \" | grep -oE '\\w+' | sort | uniq -c\n",
    "#uniq :delete repeated item. -c :count"
   ]
  },
  {
   "cell_type": "code",
   "execution_count": 14,
   "metadata": {
    "collapsed": false
   },
   "outputs": [
    {
     "name": "stdout",
     "output_type": "stream",
     "text": [
      "      3 d\n",
      "      1 sdf\n",
      "      1 dsf\n",
      "      1 c\n",
      "      1 b\n",
      "      1 a\n"
     ]
    }
   ],
   "source": [
    "echo \"a b c d d d sdf dsf \" | grep -oE '\\w+' | sort | uniq -c | sort -hr\n",
    "#sort -h:sort by human way -r: reverse order"
   ]
  },
  {
   "cell_type": "code",
   "execution_count": 15,
   "metadata": {
    "collapsed": false
   },
   "outputs": [
    {
     "name": "stdout",
     "output_type": "stream",
     "text": [
      "      3 d\n",
      "      1 sdf\n",
      "      1 dsf\n"
     ]
    }
   ],
   "source": [
    "echo \"a b c d d d sdf dsf \" | grep -oE '\\w+' | sort | uniq -c | sort -hr | head -n 3\n",
    "#display top 3 lines"
   ]
  },
  {
   "cell_type": "code",
   "execution_count": null,
   "metadata": {
    "collapsed": true
   },
   "outputs": [],
   "source": [
    "echo \"a b c d d d sdf dsf \" | grep -oE '\\w+' | sort | uniq -c | sort -hr | head -n $NUMCOUNT"
   ]
  }
 ],
 "metadata": {
  "anaconda-cloud": {},
  "kernelspec": {
   "display_name": "Bash",
   "language": "bash",
   "name": "bash"
  },
  "language_info": {
   "codemirror_mode": "shell",
   "file_extension": ".sh",
   "mimetype": "text/x-sh",
   "name": "bash"
  }
 },
 "nbformat": 4,
 "nbformat_minor": 1
}
