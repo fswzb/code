{
 "cells": [
  {
   "cell_type": "raw",
   "metadata": {},
   "source": [
    "grep -iE '^CHAPTER .*$' ./book/ch05/data/alice.txt"
   ]
  },
  {
   "cell_type": "code",
   "execution_count": 25,
   "metadata": {
    "collapsed": false
   },
   "outputs": [
    {
     "name": "stdout",
     "output_type": "stream",
     "text": [
      "\u001b[01;31m\u001b[KCHAPTER\u001b[m\u001b[K I. Down the Rabbit-Hole\n",
      "\u001b[01;31m\u001b[KCHAPTER\u001b[m\u001b[K II. The Pool of Tears\n",
      "\u001b[01;31m\u001b[KCHAPTER\u001b[m\u001b[K III. A Caucus-Race and a Long Tale\n",
      "\u001b[01;31m\u001b[KCHAPTER\u001b[m\u001b[K IV. The Rabbit Sends in a Little Bill\n",
      "\u001b[01;31m\u001b[KCHAPTER\u001b[m\u001b[K V. Advice from a Caterpillar\n",
      "\u001b[01;31m\u001b[KCHAPTER\u001b[m\u001b[K VI. Pig and Pepper\n",
      "\u001b[01;31m\u001b[KCHAPTER\u001b[m\u001b[K VII. A Mad Tea-Party\n",
      "\u001b[01;31m\u001b[KCHAPTER\u001b[m\u001b[K VIII. The Queen's Croquet-Ground\n",
      "\u001b[01;31m\u001b[KCHAPTER\u001b[m\u001b[K IX. The Mock Turtle's Story\n",
      "\u001b[01;31m\u001b[KCHAPTER\u001b[m\u001b[K X. The Lobster Quadrille\n",
      "\u001b[01;31m\u001b[KCHAPTER\u001b[m\u001b[K XI. Who Stole the Tarts?\n",
      "\u001b[01;31m\u001b[KCHAPTER\u001b[m\u001b[K XII. Alice's Evidence\n"
     ]
    }
   ],
   "source": [
    "grep -E '^CHAPTER' book/ch05/data/alice.txt"
   ]
  },
  {
   "cell_type": "code",
   "execution_count": null,
   "metadata": {
    "collapsed": true
   },
   "outputs": [],
   "source": []
  }
 ],
 "metadata": {
  "anaconda-cloud": {},
  "kernelspec": {
   "display_name": "Bash",
   "language": "bash",
   "name": "bash"
  },
  "language_info": {
   "codemirror_mode": "shell",
   "file_extension": ".sh",
   "mimetype": "text/x-sh",
   "name": "bash"
  }
 },
 "nbformat": 4,
 "nbformat_minor": 1
}
